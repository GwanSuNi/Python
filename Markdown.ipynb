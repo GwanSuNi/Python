{
 "cells": [
  {
   "cell_type": "markdown",
   "metadata": {},
   "source": [
    "# 파이썬 프그래밍\n",
    "## 기본 사항\n",
    "## 기초문법\n",
    "### 변수 사용하기\n",
    "> 변수 이름 짓기\n",
    "1. 영문자, 숫자, 밑줄(_)\n",
    "2. 첫 글자는 영문자 또는 밑줄로 시작\n",
    "\n",
    "> 코드 작성\n",
    " ```python\n",
    " x = 10\n",
    " y = 20\n",
    " print(x+y)\n",
    " ```"
   ]
  },
  {
   "cell_type": "code",
   "execution_count": 1,
   "metadata": {},
   "outputs": [
    {
     "data": {
      "text/plain": [
       "str"
      ]
     },
     "execution_count": 1,
     "metadata": {},
     "output_type": "execute_result"
    }
   ],
   "source": [
    "type(\"컴퓨터소프트웨어과\")"
   ]
  },
  {
   "cell_type": "code",
   "execution_count": 3,
   "metadata": {},
   "outputs": [
    {
     "name": "stdout",
     "output_type": "stream",
     "text": [
      "A\n",
      "A\n",
      "A\n",
      "B\n"
     ]
    }
   ],
   "source": [
    "# 논리적 묶음을 표현하기 위해 들여쓰기 사용\n",
    "for x in range(3): # for(int x = 0; x < 3; x++) { }\n",
    "    print(\"A\")\n",
    "print(\"B\")"
   ]
  },
  {
   "cell_type": "markdown",
   "metadata": {},
   "source": [
    "> 파이썬 스타일 작성"
   ]
  },
  {
   "cell_type": "code",
   "execution_count": 6,
   "metadata": {},
   "outputs": [
    {
     "name": "stdout",
     "output_type": "stream",
     "text": [
      "redgreenblueyellow\n"
     ]
    }
   ],
   "source": [
    "# 절차적으로 리스트에서 각 항목을 하나의 문자열로 만들기\n",
    "colors = ['red', 'green', 'blue', 'yellow']\n",
    "result = ''\n",
    "for s in colors:\n",
    "    result += s\n",
    "print(result)"
   ]
  },
  {
   "cell_type": "code",
   "execution_count": 7,
   "metadata": {},
   "outputs": [
    {
     "name": "stdout",
     "output_type": "stream",
     "text": [
      "redgreenblueyellow\n"
     ]
    }
   ],
   "source": [
    "# 선언적으로 리스트에서 각 항목을 하나의 문자열로 만들기\n",
    "colors = ['red', 'green', 'blue', 'yellow']\n",
    "result = ''.join(colors)\n",
    "print(result)"
   ]
  },
  {
   "cell_type": "code",
   "execution_count": 23,
   "metadata": {},
   "outputs": [
    {
     "name": "stdout",
     "output_type": "stream",
     "text": [
      "red,green,blue,yellow\n",
      "red,green,blue,yellow\n"
     ]
    }
   ],
   "source": [
    "#   color의 각 항목을 ,을 사용해 하나의 문자열로 만들기\n",
    "#  절차적 스타일\n",
    "colors = ['red', 'green', 'blue', 'yellow']\n",
    "result = ''\n",
    "for s in range(len(colors)-1):\n",
    "    result += colors[s]+','\n",
    "result += colors[s+1]\n",
    "print(result)\n",
    "\n",
    "# 파이썬 스타일\n",
    "colors = ['red', 'green', 'blue', 'yellow']\n",
    "result = ','.join(colors)\n",
    "print(result)"
   ]
  },
  {
   "cell_type": "markdown",
   "metadata": {},
   "source": [
    "> 파이썬 키워드"
   ]
  },
  {
   "cell_type": "code",
   "execution_count": 13,
   "metadata": {},
   "outputs": [
    {
     "name": "stdout",
     "output_type": "stream",
     "text": [
      "파이썬 키워드 개수:  36 개\n",
      "['False', 'None', 'True', '__peg_parser__', 'and', 'as', 'assert', 'async', 'await', 'break', 'class', 'continue', 'def', 'del', 'elif', 'else', 'except', 'finally', 'for', 'from', 'global', 'if', 'import', 'in', 'is', 'lambda', 'nonlocal', 'not', 'or', 'pass', 'raise', 'return', 'try', 'while', 'with', 'yield']\n"
     ]
    }
   ],
   "source": [
    "import keyword\n",
    "print('파이썬 키워드 개수: ', len(keyword.kwlist), '개')\n",
    "print(keyword.kwlist)"
   ]
  },
  {
   "cell_type": "markdown",
   "metadata": {},
   "source": [
    "> 입-출력"
   ]
  },
  {
   "cell_type": "code",
   "execution_count": 14,
   "metadata": {},
   "outputs": [
    {
     "name": "stdout",
     "output_type": "stream",
     "text": [
      "김 smart 경민\n"
     ]
    }
   ],
   "source": [
    "# 여러 값 출력해보기\n",
    "print('김', 'smart', '경민')"
   ]
  },
  {
   "cell_type": "code",
   "execution_count": 15,
   "metadata": {},
   "outputs": [
    {
     "name": "stdout",
     "output_type": "stream",
     "text": [
      "김씨 성을 가진 smart 경민\n"
     ]
    }
   ],
   "source": [
    "name = '{}씨 성을 가진 {} {}'.format('김','smart','경민')\n",
    "print(name)"
   ]
  },
  {
   "cell_type": "code",
   "execution_count": 16,
   "metadata": {},
   "outputs": [
    {
     "name": "stdout",
     "output_type": "stream",
     "text": [
      "김 smart 경민\n",
      "김 경민 smart\n",
      "김 smart smart\n"
     ]
    }
   ],
   "source": [
    "name = '{0} {1} {2}'.format('김','smart','경민')\n",
    "print(name)\n",
    "\n",
    "name = '{0} {2} {1}'.format('김','smart','경민')\n",
    "print(name)\n",
    "\n",
    "name = '{0} {1} {1}'.format('김','smart','경민')\n",
    "print(name)"
   ]
  },
  {
   "cell_type": "code",
   "execution_count": 19,
   "metadata": {},
   "outputs": [
    {
     "name": "stdout",
     "output_type": "stream",
     "text": [
      "김 Smart 경민\n"
     ]
    }
   ],
   "source": [
    "first_name = '김'\n",
    "middle_name = 'Smart'\n",
    "last_name = '경민'\n",
    "\n",
    "print(f'{first_name} {middle_name} {last_name}')"
   ]
  },
  {
   "cell_type": "code",
   "execution_count": 20,
   "metadata": {},
   "outputs": [
    {
     "name": "stdout",
     "output_type": "stream",
     "text": [
      "김경민\n",
      "<class 'str'>\n"
     ]
    }
   ],
   "source": [
    "name = input('이름을 입력하세요')\n",
    "print(name)\n",
    "print(type(name))"
   ]
  },
  {
   "cell_type": "code",
   "execution_count": 21,
   "metadata": {},
   "outputs": [
    {
     "name": "stdout",
     "output_type": "stream",
     "text": [
      "12\n",
      "<class 'str'>\n",
      "<class 'int'>\n"
     ]
    }
   ],
   "source": [
    "age = input('나이를 입력하세요')\n",
    "print(age)\n",
    "print(type(age))\n",
    "\n",
    "# 문자열을 정수로 변경\n",
    "age = int(age)\n",
    "print(type(age))"
   ]
  },
  {
   "cell_type": "markdown",
   "metadata": {},
   "source": [
    "> 변수"
   ]
  },
  {
   "cell_type": "code",
   "execution_count": 24,
   "metadata": {},
   "outputs": [
    {
     "name": "stdout",
     "output_type": "stream",
     "text": [
      "4346112592\n",
      "4346112592\n"
     ]
    }
   ],
   "source": [
    "x = 10\n",
    "y = 10\n",
    "z = 10 + 1\n",
    "print(id(x))\n",
    "print(id(y))\n",
    "print(id(z))"
   ]
  }
 ],
 "metadata": {
  "kernelspec": {
   "display_name": "Python 3.9.13 64-bit",
   "language": "python",
   "name": "python3"
  },
  "language_info": {
   "codemirror_mode": {
    "name": "ipython",
    "version": 3
   },
   "file_extension": ".py",
   "mimetype": "text/x-python",
   "name": "python",
   "nbconvert_exporter": "python",
   "pygments_lexer": "ipython3",
   "version": "3.9.13"
  },
  "orig_nbformat": 4,
  "vscode": {
   "interpreter": {
    "hash": "aee8b7b246df8f9039afb4144a1f6fd8d2ca17a180786b69acc140d282b71a49"
   }
  }
 },
 "nbformat": 4,
 "nbformat_minor": 2
}
