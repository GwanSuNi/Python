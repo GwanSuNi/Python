{
 "cells": [
  {
   "cell_type": "code",
   "execution_count": 17,
   "metadata": {},
   "outputs": [
    {
     "name": "stdout",
     "output_type": "stream",
     "text": [
      "a b c\n",
      "a b c, b\n",
      "1,[0, 1, 2]\n",
      "00000010\n",
      "False\n",
      "False\n",
      "a - b - c\n",
      "1.5\n",
      "1\n"
     ]
    }
   ],
   "source": [
    "a = '{} {} {}'.format('a', 'b', 'c')\n",
    "print(a)\n",
    "\n",
    "b = ''' b\n",
    "1'''\n",
    "\n",
    "c = [0,1,2]\n",
    "print(f'{a},{b},{c}')\n",
    "\n",
    "n = 2\n",
    "print('{0:0{width}{base}}'.format(n, base='b',width=8))\n",
    "\n",
    "print(a is b)\n",
    "print(a == b)\n",
    "\n",
    "list = ['a', 'b', 'c']\n",
    "result = ' - '.join(list)\n",
    "print(result)\n",
    "\n",
    "print(3/2)\n",
    "print(3//2)\n"
   ]
  },
  {
   "cell_type": "code",
   "execution_count": 22,
   "metadata": {},
   "outputs": [
    {
     "name": "stdout",
     "output_type": "stream",
     "text": [
      "2022 10 25 22\n",
      "0\n",
      "1\n",
      "2\n",
      "3\n",
      "4\n",
      "end!\n",
      "0\n",
      "1\n",
      "2\n",
      "3\n",
      "4\n",
      "end!\n"
     ]
    }
   ],
   "source": [
    "\n",
    "import datetime\n",
    "\n",
    "now = datetime.datetime.now()\n",
    "\n",
    "print(f'{now.year} {now.month} {now.day} {now.hour}')\n",
    "\n",
    "for a in range(5):\n",
    "    print(a)\n",
    "else:\n",
    "    print(\"end!\")\n",
    "\n",
    "i = 0\n",
    "while i in range(5):\n",
    "    print(i)\n",
    "    i += 1\n",
    "else :\n",
    "    print(\"end!\")"
   ]
  },
  {
   "cell_type": "code",
   "execution_count": 32,
   "metadata": {},
   "outputs": [
    {
     "name": "stdout",
     "output_type": "stream",
     "text": [
      "3\n",
      "045감감배콩배감"
     ]
    }
   ],
   "source": [
    "a = [\"감\", \"배\", \"콩\", \"배\", \"감\", \"감\"]\n",
    "\n",
    "count = 0\n",
    "for i in a:\n",
    "    if i == \"감\":\n",
    "        count += 1\n",
    "else:\n",
    "    print(count)\n",
    "\n",
    "index = 0\n",
    "for i in a:\n",
    "    if i == \"감\":\n",
    "        print(index, end=\"\")\n",
    "    index += 1\n",
    "\n",
    "for l in range(len(a) -1, -1, -1):\n",
    "    print(a[l], end=\"\")\n"
   ]
  },
  {
   "cell_type": "code",
   "execution_count": 33,
   "metadata": {},
   "outputs": [
    {
     "name": "stdout",
     "output_type": "stream",
     "text": [
      "3 * 1 = 3\n",
      "3 * 2 = 6\n",
      "3 * 3 = 9\n",
      "3 * 4 = 12\n",
      "3 * 5 = 15\n",
      "3 * 6 = 18\n",
      "3 * 7 = 21\n",
      "3 * 8 = 24\n",
      "3 * 9 = 27\n"
     ]
    }
   ],
   "source": [
    "dan = int(input(\"알고 싶은 단 입력\"))\n",
    "\n",
    "for i in range(1, 10):\n",
    "    print('{} * {} = {}'.format(dan, i, dan*i))\n"
   ]
  },
  {
   "cell_type": "code",
   "execution_count": 38,
   "metadata": {},
   "outputs": [
    {
     "name": "stdout",
     "output_type": "stream",
     "text": [
      "a\n",
      "b\n",
      "c\n",
      "cba \n"
     ]
    }
   ],
   "source": [
    "a = \"abc\"\n",
    "temp = \" \"\n",
    "\n",
    "for i in a:\n",
    "    print(i)\n",
    "    temp = i + temp\n",
    "print(temp)"
   ]
  },
  {
   "cell_type": "code",
   "execution_count": 45,
   "metadata": {},
   "outputs": [
    {
     "name": "stdout",
     "output_type": "stream",
     "text": [
      "['busy', 'easy', 'symphony']\n"
     ]
    }
   ],
   "source": [
    "l1 = ['busy', 'bass', 'easy', 'as']\n",
    "l2 = ['buzzy', 'aws', 'symphony', 'fuzy']\n",
    "\n",
    "l = []\n",
    "for item in l1 + l2:\n",
    "    if 'sy' in item:\n",
    "        l.append(item)\n",
    "print(l)"
   ]
  },
  {
   "cell_type": "code",
   "execution_count": 43,
   "metadata": {},
   "outputs": [
    {
     "name": "stdout",
     "output_type": "stream",
     "text": [
      "['busy', 'bass', 'easy', 'as', 'buzzy', 'aws', 'symphony', 'fuzy']\n"
     ]
    }
   ],
   "source": [
    "l1 = ['busy', 'bass', 'easy', 'as']\n",
    "l2 = ['buzzy', 'aws', 'symphony', 'fuzy']\n",
    "\n",
    "l1.extend(l2)\n",
    "print(l1)"
   ]
  },
  {
   "cell_type": "code",
   "execution_count": null,
   "metadata": {},
   "outputs": [],
   "source": []
  },
  {
   "cell_type": "code",
   "execution_count": null,
   "metadata": {},
   "outputs": [],
   "source": []
  }
 ],
 "metadata": {
  "kernelspec": {
   "display_name": "Python 3.9.13 64-bit",
   "language": "python",
   "name": "python3"
  },
  "language_info": {
   "codemirror_mode": {
    "name": "ipython",
    "version": 3
   },
   "file_extension": ".py",
   "mimetype": "text/x-python",
   "name": "python",
   "nbconvert_exporter": "python",
   "pygments_lexer": "ipython3",
   "version": "3.9.13"
  },
  "orig_nbformat": 4,
  "vscode": {
   "interpreter": {
    "hash": "aee8b7b246df8f9039afb4144a1f6fd8d2ca17a180786b69acc140d282b71a49"
   }
  }
 },
 "nbformat": 4,
 "nbformat_minor": 2
}
