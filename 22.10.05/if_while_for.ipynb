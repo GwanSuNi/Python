{
 "cells": [
  {
   "cell_type": "markdown",
   "metadata": {},
   "source": [
    "> 문자열 다루기"
   ]
  },
  {
   "cell_type": "code",
   "execution_count": 26,
   "metadata": {},
   "outputs": [
    {
     "name": "stdout",
     "output_type": "stream",
     "text": [
      "Helpme\n",
      "Helpme\n",
      "Help me\n",
      "Helpme\n",
      "Help me\n",
      "6\n",
      "5\n",
      "H\n",
      "Help\n",
      "Help\n",
      "Help\n",
      "Help\n",
      "Help\n",
      "['감', '밤', '귤', '사과', '대추']\n",
      "False\n"
     ]
    }
   ],
   "source": [
    "# 문자열 다루기\n",
    "# 문자열 결합\n",
    "print( 'Help' + 'me')\n",
    "print( 'Help' 'me') # 문자열 상수들의 나열을 통해 문자열 결합\n",
    "print( 'Help', 'me')\n",
    "\n",
    "h = 'Help'\n",
    "m =  'me'\n",
    "\n",
    "print( h + m)\n",
    "#print( h m ) # 문자열 변수 두 개를 나열할 수는 없음\n",
    "print( h, m)\n",
    "\n",
    "print(len('Help' + 'me'))\n",
    "print(len('도와' + '주세요'))\n",
    "\n",
    "# 문자열 인덱싱 [ ] 기호를 사용\n",
    "# 문자열의 인덱스(위치)는 0부터 시작\n",
    "print(h[0])\n",
    "\n",
    "# 문자열 슬라이싱 [시작위치 : 끝위치+1 ] 형식을 사용\n",
    "print(h[0:4])       # help 출력\n",
    "print(h[0:len(h)])  # help 출력\n",
    "print(h[:])         # 위치 값 없으면 끝 값\n",
    "print(h[0:])\n",
    "print(h[:4])\n",
    "\n",
    "# 문자열을 특정 글자를 중심으로 분리\n",
    "# split() 함수 사용\n",
    "fruits = '감,밤,귤,사과,대추'\n",
    "print(fruits.split(','))\n",
    "\n",
    "print('abc1#00'.isalnum())\n"
   ]
  },
  {
   "cell_type": "code",
   "execution_count": 1,
   "metadata": {},
   "outputs": [
    {
     "name": "stdout",
     "output_type": "stream",
     "text": [
      "0입니다\n"
     ]
    }
   ],
   "source": [
    "# 입력을 받습니다\n",
    "number = input(\"정수 입력> \")\n",
    "number = int(number)\n",
    "\n",
    "if number > 0:\n",
    "    print(\"양수\")\n",
    "\n",
    "if number < 0:\n",
    "    print(\"음수\")\n",
    "\n",
    "if number==0:\n",
    "    print(\"0입니다\")"
   ]
  },
  {
   "cell_type": "markdown",
   "metadata": {},
   "source": [
    "> if 문 형식\n",
    "if 조건 :\n",
    "\t참일 때 문장\n",
    "else :\n",
    "\t거짓일 때 문장\n",
    "\n",
    "> elif 문 형식 \n",
    "if 조건_1 :\n",
    "\t조건_1이 참일 때 문장\n",
    "elif 조건_2 :\n",
    "\t조건_2가 참일 때 문장\n",
    "else :\n",
    "\t위의 조건들에 해당하지 않을 때 문장"
   ]
  },
  {
   "cell_type": "code",
   "execution_count": 9,
   "metadata": {},
   "outputs": [
    {
     "name": "stdout",
     "output_type": "stream",
     "text": [
      "1시간 가능\n"
     ]
    }
   ],
   "source": [
    "# 코노에서 노래 부르려고 한다. \n",
    "# 1000원 이상이면 1시간, 500원 이상이면 30분, 500원 미만이면 1곡을 노래할 수 있음\n",
    "\n",
    "money = int(input(\"코인을 넣으세요> \"))\n",
    "\n",
    "if money >= 1000:\n",
    "    time = \"1시간\"\n",
    "elif money >= 500:\n",
    "    time = \"30분\"\n",
    "else:\n",
    "    time = \"1곡\"\n",
    "\n",
    "print(time + ' 가능')\n"
   ]
  },
  {
   "cell_type": "markdown",
   "metadata": {},
   "source": [
    "> 날짜 / 시간 활용하기"
   ]
  },
  {
   "cell_type": "code",
   "execution_count": 10,
   "metadata": {},
   "outputs": [
    {
     "name": "stdout",
     "output_type": "stream",
     "text": [
      "2022년 10월 5일\n",
      "2022년 10월 5일\n"
     ]
    }
   ],
   "source": [
    "import datetime\n",
    "\n",
    "now = datetime.datetime.now()\n",
    "\n",
    "print(\"{}년 {}월 {}일\".format(now.year, now.month, now.day))\n",
    "print(f\"{now.year}년 {now.month}월 {now.day}일\")"
   ]
  },
  {
   "cell_type": "code",
   "execution_count": 15,
   "metadata": {},
   "outputs": [
    {
     "name": "stdout",
     "output_type": "stream",
     "text": [
      "현재 계절은 [가을]이고 시간은 [오전]입니다\n"
     ]
    }
   ],
   "source": [
    "# 현재 날짜 시간을 구해서 봄,여름,가을,겨울을 구분해 출력\n",
    "# 현재 날짜 시간을 구해서 오전, 오후를 구분해 출력\n",
    "\n",
    "import datetime\n",
    "now = datetime.datetime.now()\n",
    "\n",
    "if 2 < now.month < 6:\n",
    "    a = \"봄\"\n",
    "elif 5 < now.month < 9:\n",
    "    a = \"여름\"\n",
    "elif 8 < now.month < 12:\n",
    "    a = \"가을\"\n",
    "else:\n",
    "    a = \"겨울\"\n",
    "\n",
    "if now.hour <= 12 :\n",
    "    time = \"오전\"\n",
    "else:\n",
    "    time = \"오후\"\n",
    "\n",
    "\n",
    "print(f\"현재 계절은 [{a}]이고 시간은 [{time}]입니다\")\n"
   ]
  },
  {
   "cell_type": "code",
   "execution_count": 24,
   "metadata": {},
   "outputs": [
    {
     "name": "stdout",
     "output_type": "stream",
     "text": [
      "False\n"
     ]
    }
   ],
   "source": [
    "# 빈 값들에 대한 조건 테스트\n",
    "# 숫자에서 0을 제외한 다른 값은 True\n",
    "# None 은 False\n",
    "# \"\"은 False\n",
    "# []는 False [0]은 True\n",
    "\n",
    "val = []\n",
    "\n",
    "if val:\n",
    "    print(\"조건에서 True\")\n",
    "else:\n",
    "    print(\"False\")"
   ]
  },
  {
   "cell_type": "code",
   "execution_count": 31,
   "metadata": {},
   "outputs": [
    {
     "name": "stdout",
     "output_type": "stream",
     "text": [
      "1\n",
      "<class 'str'>\n"
     ]
    }
   ],
   "source": [
    "# 숫자를 입력받아 10의 자리 숫자를 출력하라\n",
    "# 예) 1234 ==> 3\n",
    "\n",
    "number = input(\"10 이상의 숫자 입력> \")\n",
    "print(number[-2])\n",
    "\n",
    "print(type(number[-2]))"
   ]
  },
  {
   "cell_type": "code",
   "execution_count": 32,
   "metadata": {},
   "outputs": [
    {
     "name": "stdout",
     "output_type": "stream",
     "text": [
      "3\n"
     ]
    }
   ],
   "source": [
    "# 임의의 10 이상의 두 수를 입력받아 두 수를 곱한 후 100의 자리 숫자를 출력하라\n",
    "\n",
    "num1 = int(input(\"첫 번째 숫자 입력> \"))\n",
    "num2 = int(input(\"두 번째 숫자 입력> \"))\n",
    "\n",
    "result = str(num1 * num2)\n",
    "print(result[-3])"
   ]
  },
  {
   "cell_type": "code",
   "execution_count": null,
   "metadata": {},
   "outputs": [],
   "source": [
    "condition = True\n",
    "if condition:\n",
    "    # 참일 때 할 일, 나중에 구현\n",
    "    pass # C나 Java의 ;와 유사\n",
    "else:\n",
    "    # 거짓일 때 할 일, 나중에 구현\n",
    "    pass"
   ]
  },
  {
   "cell_type": "code",
   "execution_count": 36,
   "metadata": {},
   "outputs": [
    {
     "ename": "IndexError",
     "evalue": "string index out of range",
     "output_type": "error",
     "traceback": [
      "\u001b[0;31m---------------------------------------------------------------------------\u001b[0m",
      "\u001b[0;31mIndexError\u001b[0m                                Traceback (most recent call last)",
      "Cell \u001b[0;32mIn [36], line 2\u001b[0m\n\u001b[1;32m      1\u001b[0m number \u001b[38;5;241m=\u001b[39m \u001b[38;5;28minput\u001b[39m(\u001b[38;5;124m\"\u001b[39m\u001b[38;5;124m정수 입력> \u001b[39m\u001b[38;5;124m\"\u001b[39m)\n\u001b[0;32m----> 2\u001b[0m last_character \u001b[38;5;241m=\u001b[39m \u001b[43mnumber\u001b[49m\u001b[43m[\u001b[49m\u001b[38;5;241;43m-\u001b[39;49m\u001b[38;5;241;43m1\u001b[39;49m\u001b[43m]\u001b[49m\n\u001b[1;32m      4\u001b[0m \u001b[38;5;28;01mif\u001b[39;00m last_character \u001b[38;5;129;01min\u001b[39;00m \u001b[38;5;124m\"\u001b[39m\u001b[38;5;124m02468\u001b[39m\u001b[38;5;124m\"\u001b[39m:\n\u001b[1;32m      5\u001b[0m     \u001b[38;5;28mprint\u001b[39m(\u001b[38;5;124m\"\u001b[39m\u001b[38;5;124m짝수\u001b[39m\u001b[38;5;124m\"\u001b[39m)\n",
      "\u001b[0;31mIndexError\u001b[0m: string index out of range"
     ]
    }
   ],
   "source": [
    "number = input(\"정수 입력> \")\n",
    "last_character = number[-1]\n",
    "\n",
    "if last_character in \"02468\":\n",
    "    print(\"짝수\")\n",
    "else:\n",
    "    print(\"홀수\")"
   ]
  },
  {
   "cell_type": "code",
   "execution_count": 40,
   "metadata": {},
   "outputs": [
    {
     "name": "stdout",
     "output_type": "stream",
     "text": [
      "a가 b보다 크다\n"
     ]
    }
   ],
   "source": [
    "# 두 개의 문자열을 입력받아 어떤게 큰 지 비교\n",
    "a = \"abd\"\n",
    "b = \"abc\"\n",
    "\n",
    "if a > b:\n",
    "    print(\"a가 b보다 크다\")\n",
    "elif a < b:\n",
    "    print(\"b가 a보다 크다\")\n",
    "else:\n",
    "    print(\"같다\")\n"
   ]
  },
  {
   "cell_type": "code",
   "execution_count": 41,
   "metadata": {},
   "outputs": [
    {
     "name": "stdout",
     "output_type": "stream",
     "text": [
      "백두산 있음\n"
     ]
    }
   ],
   "source": [
    "# 애국가 문자열에서 '백두산'이 들어 있는 지 확인 ==> in\n",
    "\n",
    "애국가 = '동해물과 백두산이 마르고 닳도록'\n",
    "\n",
    "if '백두산' in 애국가:\n",
    "    print(\"백두산 있음\")\n",
    "else:\n",
    "    print(\"없음\")"
   ]
  },
  {
   "cell_type": "markdown",
   "metadata": {},
   "source": [
    "## 반복문\n",
    "> while 문"
   ]
  },
  {
   "cell_type": "code",
   "execution_count": 48,
   "metadata": {},
   "outputs": [
    {
     "name": "stdout",
     "output_type": "stream",
     "text": [
      "while 다음에 반드시 실행할 문장\n",
      "while문 종료 후 i의 값: 7\n"
     ]
    }
   ],
   "source": [
    "# while ~ else\n",
    "i = 7\n",
    "while i < 6:\n",
    "    print(i)\n",
    "    i += 1\n",
    "else:\n",
    "    print(\"while 다음에 반드시 실행할 문장\")\n",
    "\n",
    "print(\"while문 종료 후 i의 값:\", i)"
   ]
  },
  {
   "cell_type": "markdown",
   "metadata": {},
   "source": [
    "> for문"
   ]
  },
  {
   "cell_type": "code",
   "execution_count": 54,
   "metadata": {},
   "outputs": [
    {
     "name": "stdout",
     "output_type": "stream",
     "text": [
      "range(0, 5)\n",
      "12345"
     ]
    }
   ],
   "source": [
    "# 자동으로 숫자 범위 값을 생성\n",
    "# 시작하는 숫자는 기본으로 0, 마지막 숫자는 끝값-1\n",
    "# range(시작, 끝) 또는 range(끝)\n",
    "print(range(5)) # range(0,5)\n",
    "\n",
    "for n in range(1, 6):\n",
    "    print(n, end=\"\")"
   ]
  },
  {
   "cell_type": "code",
   "execution_count": 57,
   "metadata": {},
   "outputs": [
    {
     "name": "stdout",
     "output_type": "stream",
     "text": [
      "2\n",
      "4\n",
      "6\n",
      "8\n",
      "10\n",
      "10\n",
      "8\n",
      "6\n",
      "4\n",
      "2\n"
     ]
    }
   ],
   "source": [
    "for i in range(2, 11, 2):\n",
    "    print(i)"
   ]
  },
  {
   "cell_type": "code",
   "execution_count": 58,
   "metadata": {},
   "outputs": [
    {
     "name": "stdout",
     "output_type": "stream",
     "text": [
      "10\n",
      "8\n",
      "6\n",
      "4\n",
      "2\n"
     ]
    }
   ],
   "source": [
    "for i in range(10, 0, -2):\n",
    "    print(i)"
   ]
  },
  {
   "cell_type": "code",
   "execution_count": 63,
   "metadata": {},
   "outputs": [
    {
     "data": {
      "text/plain": [
       "3"
      ]
     },
     "execution_count": 63,
     "metadata": {},
     "output_type": "execute_result"
    }
   ],
   "source": [
    "# 리스트가 [\"감\", \"배\", \"콩\", \"배\", \"감\", \"감\"]일 때\n",
    "# 감이 몇 개인지 출력\n",
    "\n",
    "a = [\"감\", \"배\", \"콩\", \"배\", \"감\", \"감\"]\n",
    "\n",
    "count = 0\n",
    "for i in a:\n",
    "    if i == \"감\":\n",
    "        count += 1\n",
    "\n",
    "print(count)"
   ]
  },
  {
   "cell_type": "code",
   "execution_count": 68,
   "metadata": {},
   "outputs": [
    {
     "name": "stdout",
     "output_type": "stream",
     "text": [
      "0\n",
      "4\n",
      "5\n"
     ]
    }
   ],
   "source": [
    "# 리스트가 [\"감\", \"배\", \"콩\", \"배\", \"감\", \"감\"]일 때\n",
    "# 감이 나타난 위치를 나타내라\n",
    "\n",
    "a = [\"감\", \"배\", \"콩\", \"배\", \"감\", \"감\"]\n",
    "\n",
    "index = 0\n",
    "for i in a:\n",
    "    if i == \"감\":\n",
    "        print(index)\n",
    "    index += 1"
   ]
  },
  {
   "cell_type": "code",
   "execution_count": 69,
   "metadata": {},
   "outputs": [
    {
     "name": "stdout",
     "output_type": "stream",
     "text": [
      "사과를 필았습니다\n",
      "바나나를 필았습니다\n",
      "딸기를 필았습니다\n",
      "Sold Out!\n"
     ]
    }
   ],
   "source": [
    "for x in ['사과', '바나나', '딸기']:\n",
    "    print(f\"{x}를 필았습니다\")\n",
    "else:\n",
    "    print(\"Sold Out!\")"
   ]
  },
  {
   "cell_type": "code",
   "execution_count": 76,
   "metadata": {},
   "outputs": [
    {
     "name": "stdout",
     "output_type": "stream",
     "text": [
      "1 * 1 = 1\n",
      "1 * 2 = 2\n",
      "1 * 3 = 3\n",
      "1 * 4 = 4\n",
      "1 * 5 = 5\n",
      "1 * 6 = 6\n",
      "1 * 7 = 7\n",
      "1 * 8 = 8\n",
      "1 * 9 = 9\n",
      "2 * 1 = 2\n",
      "2 * 2 = 4\n",
      "2 * 3 = 6\n",
      "2 * 4 = 8\n",
      "2 * 5 = 10\n",
      "2 * 6 = 12\n",
      "2 * 7 = 14\n",
      "2 * 8 = 16\n",
      "2 * 9 = 18\n",
      "3 * 1 = 3\n",
      "3 * 2 = 6\n",
      "3 * 3 = 9\n",
      "3 * 4 = 12\n",
      "3 * 5 = 15\n",
      "3 * 6 = 18\n",
      "3 * 7 = 21\n",
      "3 * 8 = 24\n",
      "3 * 9 = 27\n",
      "4 * 1 = 4\n",
      "4 * 2 = 8\n",
      "4 * 3 = 12\n",
      "4 * 4 = 16\n",
      "4 * 5 = 20\n",
      "4 * 6 = 24\n",
      "4 * 7 = 28\n",
      "4 * 8 = 32\n",
      "4 * 9 = 36\n",
      "5 * 1 = 5\n",
      "5 * 2 = 10\n",
      "5 * 3 = 15\n",
      "5 * 4 = 20\n",
      "5 * 5 = 25\n",
      "5 * 6 = 30\n",
      "5 * 7 = 35\n",
      "5 * 8 = 40\n",
      "5 * 9 = 45\n",
      "6 * 1 = 6\n",
      "6 * 2 = 12\n",
      "6 * 3 = 18\n",
      "6 * 4 = 24\n",
      "6 * 5 = 30\n",
      "6 * 6 = 36\n",
      "6 * 7 = 42\n",
      "6 * 8 = 48\n",
      "6 * 9 = 54\n",
      "7 * 1 = 7\n",
      "7 * 2 = 14\n",
      "7 * 3 = 21\n",
      "7 * 4 = 28\n",
      "7 * 5 = 35\n",
      "7 * 6 = 42\n",
      "7 * 7 = 49\n",
      "7 * 8 = 56\n",
      "7 * 9 = 63\n",
      "8 * 1 = 8\n",
      "8 * 2 = 16\n",
      "8 * 3 = 24\n",
      "8 * 4 = 32\n",
      "8 * 5 = 40\n",
      "8 * 6 = 48\n",
      "8 * 7 = 56\n",
      "8 * 8 = 64\n",
      "8 * 9 = 72\n",
      "9 * 1 = 9\n",
      "9 * 2 = 18\n",
      "9 * 3 = 27\n",
      "9 * 4 = 36\n",
      "9 * 5 = 45\n",
      "9 * 6 = 54\n",
      "9 * 7 = 63\n",
      "9 * 8 = 72\n",
      "9 * 9 = 81\n"
     ]
    }
   ],
   "source": [
    "for i in range(1,10):\n",
    "    for j in range(1,10):\n",
    "        print(\"{} * {} = {}\".format(i,j,i*j))"
   ]
  },
  {
   "cell_type": "code",
   "execution_count": 79,
   "metadata": {},
   "outputs": [
    {
     "name": "stdout",
     "output_type": "stream",
     "text": [
      "3 * 1 = 3\n",
      "3 * 2 = 6\n",
      "3 * 3 = 9\n",
      "3 * 4 = 12\n",
      "3 * 5 = 15\n",
      "3 * 6 = 18\n",
      "3 * 7 = 21\n",
      "3 * 8 = 24\n",
      "3 * 9 = 27\n"
     ]
    }
   ],
   "source": [
    "# 구구단 중 알고싶은 단을 입력받아 출력하는 프로그램 작성\n",
    "dan = int(input(\"알고싶은 단을 입력하세요\"))\n",
    "\n",
    "\n",
    "for i in range(1, 10):\n",
    "    print(f\"{dan} * {i} = {dan * i}\")"
   ]
  },
  {
   "cell_type": "code",
   "execution_count": 88,
   "metadata": {},
   "outputs": [
    {
     "name": "stdout",
     "output_type": "stream",
     "text": [
      "P\n",
      "JS\n",
      "VB\n",
      "P\n",
      "JS\n",
      "VB\n"
     ]
    }
   ],
   "source": [
    "# 범위 슬라이싱 활용 반복문\n",
    "lang = [\"C\", \"P\", \"JS\", \"VB\"]\n",
    "\n",
    "for l in lang[-3:]:\n",
    "    print(l)\n",
    "    \n",
    "for l in lang[1:]:\n",
    "    print(l)"
   ]
  },
  {
   "cell_type": "code",
   "execution_count": 89,
   "metadata": {},
   "outputs": [
    {
     "name": "stdout",
     "output_type": "stream",
     "text": [
      "C\n",
      "P\n",
      "JS\n",
      "VB\n"
     ]
    }
   ],
   "source": [
    "# 범위 슬라이싱 활용 반복문\n",
    "lang = [\"C\", \"P\", \"JS\", \"VB\"]\n",
    "# len()은 컬렉션에 들어있는 데이터 개수를 알아내는 함수\n",
    "for l in range(len(lang)):\n",
    "    print(lang[l])"
   ]
  },
  {
   "cell_type": "code",
   "execution_count": 93,
   "metadata": {},
   "outputs": [
    {
     "name": "stdout",
     "output_type": "stream",
     "text": [
      "VB\n",
      "JS\n",
      "P\n",
      "C\n"
     ]
    }
   ],
   "source": [
    "lang = [\"C\", \"P\", \"JS\", \"VB\"]\n",
    "\n",
    "for l in range(len(lang) -1, -1, -1):\n",
    "    print(lang[l])"
   ]
  },
  {
   "cell_type": "code",
   "execution_count": null,
   "metadata": {},
   "outputs": [],
   "source": []
  }
 ],
 "metadata": {
  "kernelspec": {
   "display_name": "Python 3.9.13 64-bit",
   "language": "python",
   "name": "python3"
  },
  "language_info": {
   "codemirror_mode": {
    "name": "ipython",
    "version": 3
   },
   "file_extension": ".py",
   "mimetype": "text/x-python",
   "name": "python",
   "nbconvert_exporter": "python",
   "pygments_lexer": "ipython3",
   "version": "3.9.13"
  },
  "orig_nbformat": 4,
  "vscode": {
   "interpreter": {
    "hash": "aee8b7b246df8f9039afb4144a1f6fd8d2ca17a180786b69acc140d282b71a49"
   }
  }
 },
 "nbformat": 4,
 "nbformat_minor": 2
}
