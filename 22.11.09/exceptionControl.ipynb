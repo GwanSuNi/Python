{
 "cells": [
  {
   "cell_type": "code",
   "execution_count": 2,
   "metadata": {},
   "outputs": [
    {
     "name": "stdout",
     "output_type": "stream",
     "text": [
      "5.0\n"
     ]
    }
   ],
   "source": [
    "# 정상적인 경우\n",
    "try:\n",
    "    print(10/2)\n",
    "except:\n",
    "    print(\"예외 발생\")"
   ]
  },
  {
   "cell_type": "code",
   "execution_count": 1,
   "metadata": {},
   "outputs": [
    {
     "name": "stdout",
     "output_type": "stream",
     "text": [
      "예외 발생\n"
     ]
    }
   ],
   "source": [
    "# 비정상적인 경우\n",
    "try:\n",
    "    print(10/0)\n",
    "except:\n",
    "    print(\"예외 발생\")"
   ]
  },
  {
   "cell_type": "code",
   "execution_count": 3,
   "metadata": {},
   "outputs": [
    {
     "ename": "ZeroDivisionError",
     "evalue": "division by zero",
     "output_type": "error",
     "traceback": [
      "\u001b[0;31m---------------------------------------------------------------------------\u001b[0m",
      "\u001b[0;31mZeroDivisionError\u001b[0m                         Traceback (most recent call last)",
      "Cell \u001b[0;32mIn [3], line 2\u001b[0m\n\u001b[1;32m      1\u001b[0m \u001b[39m# except의 종류 알아보기\u001b[39;00m\n\u001b[0;32m----> 2\u001b[0m \u001b[39mprint\u001b[39m(\u001b[39m10\u001b[39;49m\u001b[39m/\u001b[39;49m\u001b[39m0\u001b[39;49m)\n",
      "\u001b[0;31mZeroDivisionError\u001b[0m: division by zero"
     ]
    }
   ],
   "source": [
    "# except의 종류 알아보기\n",
    "print(10/0)"
   ]
  },
  {
   "cell_type": "code",
   "execution_count": 4,
   "metadata": {},
   "outputs": [
    {
     "name": "stdout",
     "output_type": "stream",
     "text": [
      "분모가 0입니다\n"
     ]
    }
   ],
   "source": [
    "# except의 종류에 대한 처리\n",
    "try:\n",
    "    print(10/0)\n",
    "except ZeroDivisionError:\n",
    "    print(\"분모가 0입니다\")"
   ]
  },
  {
   "cell_type": "code",
   "execution_count": 5,
   "metadata": {},
   "outputs": [
    {
     "name": "stdout",
     "output_type": "stream",
     "text": [
      "인덱스 범위를 벗어났습니다.\n"
     ]
    }
   ],
   "source": [
    "# 여러 개의 예외가 발생하는 경우 처리\n",
    "try:\n",
    "    a = [1,2]\n",
    "    print(a[3])\n",
    "    # 이 아래는 실행되지 않음\n",
    "    print(10/0)\n",
    "except ZeroDivisionError:\n",
    "    print(\"0으로 나눌 수 없습니다.\")\n",
    "except IndexError:\n",
    "    print(\"인덱스 범위를 벗어났습니다.\")"
   ]
  },
  {
   "cell_type": "code",
   "execution_count": 10,
   "metadata": {},
   "outputs": [
    {
     "name": "stdout",
     "output_type": "stream",
     "text": [
      "Second argument to a division or modulo operation was zero.\n"
     ]
    }
   ],
   "source": [
    "# 여러 개의 예외에 대한 예외 객체 다루기\n",
    "try:\n",
    "    a = [1,2]\n",
    "    # print(a[3])\n",
    "    print(10/0)\n",
    "except ZeroDivisionError as e1:\n",
    "    print(e1.__doc__)\n",
    "except IndexError as e1:\n",
    "    print(e1)"
   ]
  },
  {
   "cell_type": "code",
   "execution_count": 11,
   "metadata": {},
   "outputs": [
    {
     "name": "stdout",
     "output_type": "stream",
     "text": [
      "list index out of range\n"
     ]
    }
   ],
   "source": [
    "# 여러 개의 예외를 한꺼번에 처리하기\n",
    "try:\n",
    "    a = [1,2]\n",
    "    print(a[3])\n",
    "    print(10/0)\n",
    "except (ZeroDivisionError, IndexError) as e: \n",
    "    print(e)"
   ]
  },
  {
   "cell_type": "code",
   "execution_count": 12,
   "metadata": {},
   "outputs": [],
   "source": [
    "# 오류 회피 pass\n",
    "try:\n",
    "    # read 모드로 파일 열어보기\n",
    "    f = open(\"없는파일.txt\", 'r')\n",
    "except FileNotFoundError:\n",
    "    pass"
   ]
  },
  {
   "cell_type": "code",
   "execution_count": 17,
   "metadata": {},
   "outputs": [
    {
     "name": "stdout",
     "output_type": "stream",
     "text": [
      "5.0\n",
      "다 잘 처리 되었음\n"
     ]
    }
   ],
   "source": [
    "# else 사용하기\n",
    "try:\n",
    "    # print(10/0)\n",
    "    print(10/2)\n",
    "except:\n",
    "    print(\"뭔가 문제가 있음\")\n",
    "else:\n",
    "    print(\"다 잘 처리 되었음\")"
   ]
  },
  {
   "cell_type": "code",
   "execution_count": 20,
   "metadata": {},
   "outputs": [
    {
     "name": "stdout",
     "output_type": "stream",
     "text": [
      "5.0\n",
      "다 잘 처리 되었음\n",
      "에러가 있든 말든 마무리는 여기서\n"
     ]
    }
   ],
   "source": [
    "# finally 사용하기\n",
    "try:\n",
    "    # print(10/0)\n",
    "    print(10/2)\n",
    "except:\n",
    "    print(\"뭔가 문제가 있음\")\n",
    "else:\n",
    "    print(\"다 잘 처리 되었음\")\n",
    "finally:\n",
    "    print(\"에러가 있든 말든 마무리는 여기서\")"
   ]
  },
  {
   "cell_type": "code",
   "execution_count": 22,
   "metadata": {},
   "outputs": [
    {
     "name": "stdout",
     "output_type": "stream",
     "text": [
      "정수임\n"
     ]
    }
   ],
   "source": [
    "# 예외를 강제로 발생시키기\n",
    "def checkInt(x):\n",
    "    if not type(x) is int:\n",
    "        raise TypeError(\"정수가 아님\") # java의 throws와 같은 기능\n",
    "    return True\n",
    "\n",
    "try:\n",
    "    # checkInt(\"hello\")\n",
    "    checkInt(100)\n",
    "except:\n",
    "    print(\"정수가 아닌가 봅니다\")\n",
    "else:\n",
    "    print(\"정수임\")"
   ]
  },
  {
   "cell_type": "code",
   "execution_count": 41,
   "metadata": {},
   "outputs": [
    {
     "name": "stdout",
     "output_type": "stream",
     "text": [
      "타입 에러 발생\n",
      "정수 맞음\n"
     ]
    }
   ],
   "source": [
    "def checkInt(x):\n",
    "    if not type(x) is int:\n",
    "        raise TypeError(\"정수가 아님\") # java의 throws와 같은 기능\n",
    "    else:\n",
    "        raise TypeError(\"정수 맞음\")\n",
    "    # return True\n",
    "\n",
    "try:\n",
    "    checkInt(100)\n",
    "except TypeError as e:\n",
    "    print(\"타입 에러 발생\")\n",
    "    print(e)"
   ]
  },
  {
   "cell_type": "code",
   "execution_count": 39,
   "metadata": {},
   "outputs": [
    {
     "name": "stdout",
     "output_type": "stream",
     "text": [
      "8000원\n"
     ]
    }
   ],
   "source": [
    "# 문제: 사용자로부터 점심 메뉴를 입력받아 각 메뉴에 대한 금액을 출력하는 프로그램 작성\n",
    "# 단, 예외 던지기 방법을 활용해 보자!\n",
    "menu = input(\"점심에 먹고싶은 메뉴는?\")\n",
    "\n",
    "try:\n",
    "    raise TypeError(menu)\n",
    "except TypeError as e:\n",
    "    menu = e.args[0]\n",
    "    if e.args[0] == \"짬뽕\":\n",
    "        print(\"8000원\")\n",
    "    elif e.args[0] == \"햄버거\":\n",
    "        print(\"4700원\")\n",
    "\n",
    "\n",
    "# print(1000) --> 1000이 문자열로 변환된 후에 출력됨"
   ]
  },
  {
   "cell_type": "code",
   "execution_count": 42,
   "metadata": {},
   "outputs": [
    {
     "name": "stdout",
     "output_type": "stream",
     "text": [
      "정수가 아님\n"
     ]
    }
   ],
   "source": [
    "# 사용자 정의 예외를 만들어 처리하기\n",
    "class NotIntegerException(Exception):\n",
    "    pass\n",
    "\n",
    "def checkInt(x):\n",
    "    if not type(x) is int:\n",
    "        raise NotIntegerException()\n",
    "    return True\n",
    "\n",
    "try:\n",
    "    checkInt(\"hello\")\n",
    "    checkInt(100)\n",
    "except NotIntegerException:\n",
    "    print(\"정수가 아님\")\n",
    "else:\n",
    "    print(\"정수임\")"
   ]
  },
  {
   "cell_type": "code",
   "execution_count": 43,
   "metadata": {},
   "outputs": [
    {
     "name": "stdout",
     "output_type": "stream",
     "text": [
      "Not Integer Number Exception\n"
     ]
    }
   ],
   "source": [
    "# 사용자 정의 예외를 만들고 커스텀 메시지 출력하도록 하기\n",
    "class NotIntegerException(Exception):\n",
    "    def __str__(self): # self는 java의 this와 같음\n",
    "        return \"Not Integer Number Exception\"\n",
    "\n",
    "def checkInt(x):\n",
    "    if not type(x) is int:\n",
    "        raise NotIntegerException()\n",
    "    return True\n",
    "\n",
    "try:\n",
    "    checkInt(\"hello\")\n",
    "    checkInt(100)\n",
    "except NotIntegerException as e:\n",
    "    print(e)\n",
    "else:\n",
    "    print(\"정수임\")"
   ]
  },
  {
   "cell_type": "code",
   "execution_count": null,
   "metadata": {},
   "outputs": [],
   "source": []
  }
 ],
 "metadata": {
  "kernelspec": {
   "display_name": "Python 3.9.13 64-bit",
   "language": "python",
   "name": "python3"
  },
  "language_info": {
   "codemirror_mode": {
    "name": "ipython",
    "version": 3
   },
   "file_extension": ".py",
   "mimetype": "text/x-python",
   "name": "python",
   "nbconvert_exporter": "python",
   "pygments_lexer": "ipython3",
   "version": "3.9.13"
  },
  "orig_nbformat": 4,
  "vscode": {
   "interpreter": {
    "hash": "aee8b7b246df8f9039afb4144a1f6fd8d2ca17a180786b69acc140d282b71a49"
   }
  }
 },
 "nbformat": 4,
 "nbformat_minor": 2
}
