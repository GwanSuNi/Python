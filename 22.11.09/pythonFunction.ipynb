{
 "cells": [
  {
   "cell_type": "markdown",
   "metadata": {},
   "source": [
    "### 파이썬 함수\n",
    "> 함수 선언\n",
    "```\n",
    "    Def 함수명(매개변수1, 매개변수N):\n",
    "        실행할 문장들\n",
    "        return 반환값\n",
    "```\n",
    "\n",
    "- 함수는 객체 취급 (1급 객체)\n",
    "- 값처럼 변수에 대입 가능\n",
    "- return 없는 함수는 None 반환\n",
    "- 정의한 매개변수 개수와 호출 시 매개변수 개수 일치해야 함\n",
    "- 아무 일도 안하는 경우 pass\n",
    "\n",
    "> return문 없는 함수\n",
    "- None 반환 (False의 의미)"
   ]
  },
  {
   "cell_type": "code",
   "execution_count": 1,
   "metadata": {},
   "outputs": [
    {
     "name": "stdout",
     "output_type": "stream",
     "text": [
      "<class 'NoneType'>\n",
      "None\n"
     ]
    }
   ],
   "source": [
    "def no_return():\n",
    "    pass\n",
    "\n",
    "print(type(no_return()))\n",
    "print(no_return())"
   ]
  },
  {
   "cell_type": "markdown",
   "metadata": {},
   "source": [
    "> 인수(argument) vs 매개변수(parameter)\n",
    "- 매개변수: 함수 선언시 ( ) 안에 나열된 변수\n",
    "- 인수: 함수 호출 시 함수에 넘겨지는 값\n",
    "\n",
    "> 여러 값 반환\n",
    "- java나 c는 단일 값 하나만(주소의 시작점) 반환할 수 있지만 python은 여러 값을 반환할 수 있음"
   ]
  },
  {
   "cell_type": "code",
   "execution_count": 10,
   "metadata": {},
   "outputs": [
    {
     "name": "stdout",
     "output_type": "stream",
     "text": [
      "10, 20 ==> 20, 10\n",
      "<class 'int'>\n",
      "(20, 10)\n",
      "<class 'tuple'>\n",
      "10, 20 ==> 20, 10\n"
     ]
    }
   ],
   "source": [
    "def swap(x, y):\n",
    "    return y, x\n",
    "\n",
    "# 개별 값으로 반환\n",
    "a, b = swap(10, 20)\n",
    "print('{}, {} ==> {}, {}'.format(10, 20, a, b))\n",
    "print(type(a))\n",
    "\n",
    "# 투플로 묶어서 반환\n",
    "x = swap(10, 20)\n",
    "print(x)\n",
    "print(type(x))\n",
    "print('{}, {} ==> {}, {}'.format(10, 20, x[0], x[1]))"
   ]
  },
  {
   "cell_type": "code",
   "execution_count": 13,
   "metadata": {},
   "outputs": [
    {
     "name": "stdout",
     "output_type": "stream",
     "text": [
      "4475596672\n",
      "['o', 't', 'd']\n",
      "4475596672\n",
      "<class 'list'>\n"
     ]
    }
   ],
   "source": [
    "def interest(l_list, r_list):\n",
    "    result = []\n",
    "    for x in l_list:\n",
    "        if x in r_list and x not in result:\n",
    "            result.append(x)\n",
    "    print(id(result))\n",
    "    return result\n",
    "\n",
    "# 리스트로 반환 했으므로 결과도 리스트\n",
    "r = interest('hotdog', 'dot')\n",
    "print(r)\n",
    "print(id(r))\n",
    "print(type(r))"
   ]
  },
  {
   "cell_type": "markdown",
   "metadata": {},
   "source": [
    "> 매개변수 전달\n",
    "- 매개변수는 레퍼런스를 이용해 전달\n",
    "- 변경가능/변경불가능 여부에 따라 내부 처리 달라짐\n",
    "\n",
    ">> 변경가능(mutable)"
   ]
  },
  {
   "cell_type": "code",
   "execution_count": 3,
   "metadata": {},
   "outputs": [
    {
     "name": "stdout",
     "output_type": "stream",
     "text": [
      "4430185536\n",
      "4430185536\n",
      "{'M', 'H', 'A'}\n",
      "<class 'set'>\n",
      "4432695072\n"
     ]
    }
   ],
   "source": [
    "# 변경가능\n",
    "def change(x):\n",
    "    print(id(x))\n",
    "    x[0] = 'H'\n",
    "    return set(x)\n",
    "\n",
    "s = ['J', 'A', 'M']\n",
    "print(id(s))\n",
    "s = change(s)\n",
    "print(s)\n",
    "print(type(s))\n",
    "print(id(s))\n",
    "# 리스트로 넘겼지만 set으로 반환됨"
   ]
  },
  {
   "cell_type": "markdown",
   "metadata": {},
   "source": [
    "> 변경 불가능"
   ]
  },
  {
   "cell_type": "code",
   "execution_count": 20,
   "metadata": {},
   "outputs": [
    {
     "name": "stdout",
     "output_type": "stream",
     "text": [
      "4475711744\n",
      "4475711744\n",
      "4475471424\n",
      "<class 'set'>\n",
      "['J', 'A', 'M']\n"
     ]
    }
   ],
   "source": [
    "# 변경 가능 자료형에 대한 파라미터 변경 방지\n",
    "def change(x):\n",
    "    print(id(x))\n",
    "    x = x[:]\n",
    "    print(id(x))\n",
    "    x[0] = 'H'\n",
    "    return set(x)\n",
    "\n",
    "s = ['J', 'A', 'M']\n",
    "print(id(s))\n",
    "print(type(change(s)))\n",
    "print(s)\n",
    "# 사본을 만들었기 때문에 주소는 변경됐지만 원본은 영향 없음"
   ]
  },
  {
   "cell_type": "markdown",
   "metadata": {},
   "source": [
    "> 스코핑 룰 (Scoping Rule)\n",
    "- 변수의 생존 범위 (참조 가능 범위)\n",
    "    - 동일 식별자 이름인 경우 가장 최근에 선언한 식별자 참조\n",
    "    - LGB rule: 지역(Local) >> 전역(Global) >> 내장(Built-in) 순서"
   ]
  },
  {
   "cell_type": "code",
   "execution_count": 6,
   "metadata": {},
   "outputs": [
    {
     "name": "stdout",
     "output_type": "stream",
     "text": [
      "1\n",
      "6\n"
     ]
    }
   ],
   "source": [
    "# 다른 언어들과 다르게 파이썬은 지역 변수가 아닌 전역 변수를 사용하려면\n",
    "# global 키워드로 초기화 해줘야함\n",
    "g = 1\n",
    "\n",
    "def scoping(a):\n",
    "    global g # global 썼을 때와 아닐 때 확인\n",
    "    g += a\n",
    "    # type = 100 # LGB 룰을 무시하고 빌트인 식별자 사용 가능하나 문제 많음\n",
    "    # print(type(type))\n",
    "\n",
    "print(g)\n",
    "scoping(5)\n",
    "print(g)"
   ]
  },
  {
   "cell_type": "markdown",
   "metadata": {},
   "source": [
    "> 함수 인자\n",
    "- 기본 인자: 함수 호출 시 값을 넘기지 않아도 인자가 기본 값을 가지도록함\n",
    "- 키워드 인자: 인자의 이름으로 값 전달, 순서와 무관하게 지정 가능"
   ]
  },
  {
   "cell_type": "code",
   "execution_count": 9,
   "metadata": {},
   "outputs": [
    {
     "name": "stdout",
     "output_type": "stream",
     "text": [
      "3번 째 학생은 고길동\n",
      "3번 째 학생은 고길동\n",
      "3번 째 학생은 홍길동\n"
     ]
    }
   ],
   "source": [
    "# 키워드 인자\n",
    "def my_func(st3, st2, st1):\n",
    "    print(f'3번 째 학생은 {st1}')\n",
    "\n",
    "my_func('홍길동', '김경민', '고길동')\n",
    "my_func(st3 = '홍길동', st2 = '김경민', st1 = '고길동')\n",
    "\n",
    "# 문법적으로 하자 없으나 실행 시 오류\n",
    "# 1번째 인자가 값으로 매개변수 st3에 넘겨졌는데 st3='홍길동'을 실행해 st3의 값이 중복되게 지정되므로 오류 발생\n",
    "# my_func('고길동', st3 = '홍길동', st2 = '김경민')\n",
    "\n",
    "# 중복\n",
    "# my_func(st3 = '고길동', st3 = '홍길동', st2 = '김경민')\n",
    "\n",
    "# 키워드 인자에 중복이 없으므로 실행됨\n",
    "my_func('고길동', st1 = '홍길동', st2 = '김경민')"
   ]
  },
  {
   "cell_type": "code",
   "execution_count": 13,
   "metadata": {},
   "outputs": [
    {
     "name": "stdout",
     "output_type": "stream",
     "text": [
      "<class 'tuple'>\n",
      "매개변수의 개수: 3\n",
      "햄버거\n",
      "샌드위치\n",
      "핫도그\n",
      "<class 'tuple'>\n",
      "매개변수의 개수: 2\n",
      "('햄버거', '샌드위치')\n",
      "핫도그\n",
      "<class 'tuple'>\n",
      "매개변수의 개수: 2\n",
      "['햄버거', '샌드위치']\n",
      "['핫도그']\n"
     ]
    }
   ],
   "source": [
    "# *함수 인자: 인자 개수 미확정, 인자는 tuple로 넘겨짐\n",
    "# * 한개라면 tuple로 넘겨짐\n",
    "def lunch_ment(*foods):\n",
    "    print(type(foods))\n",
    "    print('매개변수의 개수: {}'.format(len(foods)))\n",
    "    for food in foods:\n",
    "        print(food)\n",
    "\n",
    "# 값이 어떻든 tuple로 반환하며 개수에 유의\n",
    "lunch_ment('햄버거', '샌드위치', '핫도그')\n",
    "lunch_ment(('햄버거', '샌드위치'), '핫도그')\n",
    "lunch_ment(['햄버거', '샌드위치'], ['핫도그'])"
   ]
  },
  {
   "cell_type": "code",
   "execution_count": 23,
   "metadata": {},
   "outputs": [
    {
     "name": "stdout",
     "output_type": "stream",
     "text": [
      "<class 'dict'>\n",
      "한식은 육개장\n",
      "중식은 짜장면\n",
      "일식은 돈까스\n",
      "<class 'dict'>\n",
      "분식은 라면\n",
      "양식은 리조또\n",
      "동남아식은 쌀국수\n"
     ]
    }
   ],
   "source": [
    "# **함수 인자: 인자 개수 미확정, 인자는 dictionary로 넘겨짐\n",
    "# ** 라면 dictionary로 넘겨짐\n",
    "def lunch_ment(**foods):\n",
    "    print(type(foods))\n",
    "    keys = foods.keys()\n",
    "    # for key, item in foods.items():\n",
    "    #     print('{}은 {}'.format(key, item))\n",
    "    for key in foods:\n",
    "        print('{}은 {}'.format(key, foods[key]))\n",
    "\n",
    "lunch_ment(한식 = '육개장', 중식 = '짜장면', 일식 = '돈까스')\n",
    "lunch_ment(분식 = '라면', 양식 = '리조또', 동남아식 = '쌀국수')"
   ]
  },
  {
   "cell_type": "code",
   "execution_count": 16,
   "metadata": {},
   "outputs": [
    {
     "name": "stdout",
     "output_type": "stream",
     "text": [
      "6\n",
      "55\n"
     ]
    }
   ],
   "source": [
    "# 문제 : 매개변수로 넘겨진 모든 정수의 합을 구하는 함수 sum_all()을 작성하라\n",
    "# 단, 몇 개의 인수가 넘어갈 지는 모른다\n",
    "def sum_all(*numbers):\n",
    "    sum = 0\n",
    "    for number in numbers:\n",
    "        sum += number\n",
    "    return sum\n",
    "\n",
    "print(sum_all(1, 2, 3))\n",
    "print(sum_all(1, 2, 3, 4, 5, 6, 7, 8, 9, 10))"
   ]
  },
  {
   "cell_type": "markdown",
   "metadata": {},
   "source": [
    "> 람다 함수\n",
    "- 익명(anonymous) 함수\n",
    "- 매개변수 제한 없음, 단일 표현식만 사용\n",
    "- 어디에 유용한가?\n",
    "    - 반복적 처리, 다른 내용\n",
    "    - 수정 없이 함수 변화"
   ]
  },
  {
   "cell_type": "code",
   "execution_count": 26,
   "metadata": {},
   "outputs": [
    {
     "name": "stdout",
     "output_type": "stream",
     "text": [
      "일반 함수로 실행\n",
      "15\n",
      "<class 'function'>\n",
      "15\n",
      "2\n"
     ]
    }
   ],
   "source": [
    "# 매개변수에 10을 더해 반환하는 기능을 함수로 구현하라\n",
    "def add10(x):\n",
    "    print('일반 함수로 실행')\n",
    "    return x + 10\n",
    "\n",
    "print (add10(5))\n",
    "\n",
    "# add10의 기능과 동일하게 람다 함수로 사실은 return x + 10\n",
    "# lamda 매개변수 (일반 함수의 헤드 부분) : (일반 함수의 바디 부분)\n",
    "add10 = lambda x : x + 10\n",
    "# 함수도 객체 취급\n",
    "print(type(add10))\n",
    "print(add10(5))\n"
   ]
  },
  {
   "cell_type": "code",
   "execution_count": 30,
   "metadata": {},
   "outputs": [
    {
     "name": "stdout",
     "output_type": "stream",
     "text": [
      "5\n",
      "12\n",
      "10\n"
     ]
    }
   ],
   "source": [
    "# 함수 디폴트 값 다루기\n",
    "def f(a = 3, b = 2) :\n",
    "    return a + b\n",
    "\n",
    "print (f()) # default\n",
    "print (f(10)) # a = 10, b = 2\n",
    "print (f(3, b = 7)) # a = 3 , b = 7"
   ]
  },
  {
   "cell_type": "code",
   "execution_count": 31,
   "metadata": {},
   "outputs": [
    {
     "name": "stdout",
     "output_type": "stream",
     "text": [
      "6\n",
      "14\n",
      "14\n",
      "21\n",
      "49\n"
     ]
    }
   ],
   "source": [
    "# 람다 함수도 매개 변수에 기본 값 지정 가능?\n",
    "x = lambda a = 3, b = 2 : a * b\n",
    "print(x()) # a, b 모두 기본 값 사용\n",
    "\n",
    "# 인수가 매개변수에 매핑될 때 인수 나열 순서대로 매개변수에\n",
    "# 7은 a에 매핑\n",
    "print(x(7))\n",
    "\n",
    "print(x(a = 7))\n",
    "print(x(b = 7))\n",
    "print(x(a = 7, b = 7))"
   ]
  },
  {
   "cell_type": "code",
   "execution_count": null,
   "metadata": {},
   "outputs": [],
   "source": []
  }
 ],
 "metadata": {
  "kernelspec": {
   "display_name": "Python 3.9.13 64-bit",
   "language": "python",
   "name": "python3"
  },
  "language_info": {
   "codemirror_mode": {
    "name": "ipython",
    "version": 3
   },
   "file_extension": ".py",
   "mimetype": "text/x-python",
   "name": "python",
   "nbconvert_exporter": "python",
   "pygments_lexer": "ipython3",
   "version": "3.9.13"
  },
  "orig_nbformat": 4,
  "vscode": {
   "interpreter": {
    "hash": "aee8b7b246df8f9039afb4144a1f6fd8d2ca17a180786b69acc140d282b71a49"
   }
  }
 },
 "nbformat": 4,
 "nbformat_minor": 2
}
