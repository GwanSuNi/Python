{
 "cells": [
  {
   "cell_type": "markdown",
   "metadata": {},
   "source": [
    "### 파이썬 함수\n",
    "> 함수 선언\n",
    "```\n",
    "    Def 함수명(매개변수1, 매개변수N):\n",
    "        실행할 문장들\n",
    "        return 반환값\n",
    "```\n",
    "\n",
    "- 함수는 객체 취급 (1급 객체)\n",
    "- 값처럼 변수에 대입 가능\n",
    "- return 없는 함수는 None 반환\n",
    "- 정의한 매개변수 개수와 호출 시 매개변수 개수 일치해야 함\n",
    "- 아무 일도 안하는 경우 pass\n",
    "\n",
    "> return문 없는 함수\n",
    "- None 반환 (False의 의미)"
   ]
  },
  {
   "cell_type": "code",
   "execution_count": 1,
   "metadata": {},
   "outputs": [
    {
     "name": "stdout",
     "output_type": "stream",
     "text": [
      "<class 'NoneType'>\n",
      "None\n"
     ]
    }
   ],
   "source": [
    "def no_return():\n",
    "    pass\n",
    "\n",
    "print(type(no_return()))\n",
    "print(no_return())"
   ]
  },
  {
   "cell_type": "markdown",
   "metadata": {},
   "source": [
    "> 인수(argument) vs 매개변수(parameter)\n",
    "- 매개변수: 함수 선언시 ( ) 안에 나열된 변수\n",
    "- 인수: 함수 호출 시 함수에 넘겨지는 값\n",
    "\n",
    "> 여러 값 반환\n",
    "- java나 c는 단일 값 하나만(주소의 시작점) 반환할 수 있지만 python은 말 그대로 여러 값을 반환할 수 있음"
   ]
  },
  {
   "cell_type": "code",
   "execution_count": 10,
   "metadata": {},
   "outputs": [
    {
     "name": "stdout",
     "output_type": "stream",
     "text": [
      "10, 20 ==> 20, 10\n",
      "<class 'int'>\n",
      "(20, 10)\n",
      "<class 'tuple'>\n",
      "10, 20 ==> 20, 10\n"
     ]
    }
   ],
   "source": [
    "def swap(x, y):\n",
    "    return y, x\n",
    "\n",
    "# 개별 값으로 반환\n",
    "a, b = swap(10, 20)\n",
    "print('{}, {} ==> {}, {}'.format(10, 20, a, b))\n",
    "print(type(a))\n",
    "\n",
    "# 투플로 묶어서 반환\n",
    "x = swap(10, 20)\n",
    "print(x)\n",
    "print(type(x))\n",
    "print('{}, {} ==> {}, {}'.format(10, 20, x[0], x[1]))"
   ]
  },
  {
   "cell_type": "code",
   "execution_count": 13,
   "metadata": {},
   "outputs": [
    {
     "name": "stdout",
     "output_type": "stream",
     "text": [
      "4475596672\n",
      "['o', 't', 'd']\n",
      "4475596672\n",
      "<class 'list'>\n"
     ]
    }
   ],
   "source": [
    "def interest(l_list, r_list):\n",
    "    result = []\n",
    "    for x in l_list:\n",
    "        if x in r_list and x not in result:\n",
    "            result.append(x)\n",
    "    print(id(result))\n",
    "    return result\n",
    "\n",
    "# 리스트로 반환 했으므로 결과도 리스트\n",
    "r = interest('hotdog', 'dot')\n",
    "print(r)\n",
    "print(id(r))\n",
    "print(type(r))"
   ]
  },
  {
   "cell_type": "markdown",
   "metadata": {},
   "source": [
    "> 매개변수 전달\n",
    "- 매개변수는 레퍼런스를 이용해 전달\n",
    "- 변경가능/변경불가능 여부에 따라 내부 처리 달라짐\n",
    "\n",
    ">> 변경가능(mutable)"
   ]
  },
  {
   "cell_type": "code",
   "execution_count": 18,
   "metadata": {},
   "outputs": [
    {
     "name": "stdout",
     "output_type": "stream",
     "text": [
      "4475582016\n",
      "4475582016\n",
      "{'A', 'H', 'M'}\n",
      "<class 'set'>\n",
      "4475433024\n"
     ]
    }
   ],
   "source": [
    "# 변경가능\n",
    "def change(x):\n",
    "    print(id(x))\n",
    "    x[0] = 'H'\n",
    "    return set(x)\n",
    "\n",
    "s = ['J', 'A', 'M']\n",
    "print(id(s))\n",
    "s = change(s)\n",
    "print(s)\n",
    "print(type(s))\n",
    "print(id(s))\n",
    "# 리스트로 넘겼지만 set으로 반환됨"
   ]
  },
  {
   "cell_type": "code",
   "execution_count": 20,
   "metadata": {},
   "outputs": [
    {
     "name": "stdout",
     "output_type": "stream",
     "text": [
      "4475711744\n",
      "4475711744\n",
      "4475471424\n",
      "<class 'set'>\n",
      "['J', 'A', 'M']\n"
     ]
    }
   ],
   "source": [
    "# 변경 가능 자료형에 대한 파라미터 변경 방지\n",
    "def change(x):\n",
    "    print(id(x))\n",
    "    x = x[:]\n",
    "    print(id(x))\n",
    "    x[0] = 'H'\n",
    "    return set(x)\n",
    "\n",
    "s = ['J', 'A', 'M']\n",
    "print(id(s))\n",
    "print(type(change(s)))\n",
    "print(s)\n",
    "# 사본을 만들었기 때문에 주소는 변경됐지만 원본은 영향 없음"
   ]
  },
  {
   "cell_type": "code",
   "execution_count": null,
   "metadata": {},
   "outputs": [],
   "source": []
  }
 ],
 "metadata": {
  "kernelspec": {
   "display_name": "Python 3.9.13 64-bit",
   "language": "python",
   "name": "python3"
  },
  "language_info": {
   "codemirror_mode": {
    "name": "ipython",
    "version": 3
   },
   "file_extension": ".py",
   "mimetype": "text/x-python",
   "name": "python",
   "nbconvert_exporter": "python",
   "pygments_lexer": "ipython3",
   "version": "3.9.13"
  },
  "orig_nbformat": 4,
  "vscode": {
   "interpreter": {
    "hash": "aee8b7b246df8f9039afb4144a1f6fd8d2ca17a180786b69acc140d282b71a49"
   }
  }
 },
 "nbformat": 4,
 "nbformat_minor": 2
}
