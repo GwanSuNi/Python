{
 "cells": [
  {
   "cell_type": "markdown",
   "metadata": {},
   "source": [
    "> 문자열"
   ]
  },
  {
   "cell_type": "code",
   "execution_count": null,
   "metadata": {},
   "outputs": [],
   "source": [
    "s1 = 'big data'\n",
    "s2 = \"big data\"\n",
    "# 도큐먼트 타입은 문자열이 작성된 그대로 저장되고, \\n이 포함되기 때문에 다름\n",
    "s3 = '''big\n",
    "data'''\n",
    "s4 = \"\"\"big data\"\"\"\n",
    "\n",
    "print(s1==s2)\n",
    "print(s1==s3)\n",
    "print(s2==s3)\n",
    "print(s3==s4)"
   ]
  },
  {
   "cell_type": "markdown",
   "metadata": {},
   "source": [
    "> 형식에 맞춰 숫자 출력하기"
   ]
  },
  {
   "cell_type": "code",
   "execution_count": null,
   "metadata": {},
   "outputs": [],
   "source": [
    "num = 7\n",
    "output = '{0:0{width}{base}}'.format(num,base='b',width=4)\n",
    "print(output)"
   ]
  },
  {
   "cell_type": "markdown",
   "metadata": {},
   "source": [
    "> 연산자"
   ]
  },
  {
   "cell_type": "code",
   "execution_count": null,
   "metadata": {},
   "outputs": [],
   "source": [
    "print(5/3)\n",
    "print(5//3)\n",
    "print(5%3)\n",
    "\n",
    "print(7/2)\n",
    "print(7//2)\n",
    "print(7%2)"
   ]
  },
  {
   "cell_type": "code",
   "execution_count": null,
   "metadata": {},
   "outputs": [],
   "source": [
    "print('hot' + 'dog')\n",
    "print('hot' + 'dog'*2)"
   ]
  },
  {
   "cell_type": "code",
   "execution_count": null,
   "metadata": {},
   "outputs": [],
   "source": [
    "# 문제: -러 즐을 긋도록 처리\n",
    "# 방법 1 >\n",
    "print('----------')\n",
    "\n",
    "# 방법 2 >\n",
    "s = ''\n",
    "for n in range(10) :\n",
    "    s += '-'\n",
    "print(s)\n",
    "\n",
    "# 방법 3 >\n",
    "print('-'*10)"
   ]
  },
  {
   "cell_type": "code",
   "execution_count": null,
   "metadata": {},
   "outputs": [],
   "source": [
    "# 숫자와 문자열간의 연산은?\n",
    "x = 20\n",
    "print('x' + 'y') # 'xy'\n",
    "# print('x' + 10) # 오류\n",
    "# print (10 + 'x') # 오류\n",
    "print(10 + x) # \n",
    "# print('20' + 10) # 오류\n",
    "# print(10 + '20') # 오류"
   ]
  },
  {
   "cell_type": "code",
   "execution_count": null,
   "metadata": {},
   "outputs": [],
   "source": [
    "# 문자열들을 출력할 때 발생할 수 있는 현상들\n",
    "print('hot', 'dog')\n",
    "print('hot' + 'dog')\n",
    "print('hot'    'dog')\n",
    "print('hot'\"dog\")\n",
    "print('hot'    \"\"\"dog\"\"\")"
   ]
  },
  {
   "cell_type": "markdown",
   "metadata": {},
   "source": [
    "> 비교 연산자"
   ]
  },
  {
   "cell_type": "code",
   "execution_count": null,
   "metadata": {},
   "outputs": [],
   "source": [
    "# x가 10일 때 x의 값의 범위 확인\n",
    "x = 10\n",
    "# 기존 논리 표현 방식\n",
    "print( 2 <= x and x < 10)\n",
    "# 파이썬 스타일\n",
    "2 <= x < 10\n",
    "\n",
    "# print 없어도 출력? \n",
    "# 연산 시간 ? "
   ]
  },
  {
   "cell_type": "code",
   "execution_count": null,
   "metadata": {},
   "outputs": [],
   "source": [
    "x = 10\n",
    "2 <= x <= 10"
   ]
  },
  {
   "cell_type": "code",
   "execution_count": null,
   "metadata": {},
   "outputs": [],
   "source": [
    "x = 10\n",
    "not(2 <= x <= 10)\n"
   ]
  },
  {
   "cell_type": "code",
   "execution_count": null,
   "metadata": {},
   "outputs": [],
   "source": [
    "# 학점 판단하기\n",
    "# A 학점 기준 90 <= grade <= 100 ...\n",
    "# A 학점 기준 80 <= grade < 90 ...\n",
    "\n",
    "# 합격 여부 판단하기\n",
    "# 운전면허시험 합격 여부 판단\n",
    "# 합격 : 60 <= grade <= 100\n",
    "\n",
    "grade = int(input(\"필기시험 점수를 입력하세요 : \"))\n",
    "if 60 <= grade <= 100 :\n",
    "    if grade == 100:\n",
    "        print(\"만점\")\n",
    "    print(\"합격\")\n",
    "else :\n",
    "    print(\"불합격\")\n"
   ]
  },
  {
   "cell_type": "code",
   "execution_count": null,
   "metadata": {},
   "outputs": [],
   "source": [
    "x = ['김경민', '융합소프트웨어과']\n",
    "y = ['김경민', '융합소프트웨어과']\n",
    "z = x\n",
    "\n",
    "print(x is z) # O\n",
    "print(x is y) # X\n",
    "print(x == y) # O 순서가 있는 컬렉션의 경우 순서까지 같아야함\n",
    "\n",
    "\n",
    "print(\"김경민\" in x, end =' ')\n",
    "print(\"홍경민\" in x)"
   ]
  },
  {
   "cell_type": "code",
   "execution_count": null,
   "metadata": {},
   "outputs": [],
   "source": [
    "# 이진수로 3을 표현한 후 (8자리)\n",
    "# 이 값을 오른쪽으로 2번 이동(시프트)한 후 \n",
    "# 그 결과 값을 다시 2진수로 출력\n",
    "n = 3\n",
    "print('{0:0{width}{base}}'.format(n, base = 'b', width = 8))\n",
    "\n",
    "n = n >> 2\n",
    "\n",
    "print('{0:0{width}{base}}'.format(n, base = 'b', width = 8))"
   ]
  },
  {
   "cell_type": "code",
   "execution_count": null,
   "metadata": {},
   "outputs": [],
   "source": [
    "n = 2\n",
    "print('{0:0{width}{base}}'.format(n, base = 'b', width = 8))\n",
    "\n",
    "n = n << 2\n",
    "\n",
    "print('{0:0{width}{base}}'.format(n, base = 'b', width = 8))"
   ]
  },
  {
   "cell_type": "code",
   "execution_count": 80,
   "metadata": {},
   "outputs": [
    {
     "name": "stdout",
     "output_type": "stream",
     "text": [
      "<class 'str'>\n",
      "<class 'float'>\n"
     ]
    }
   ],
   "source": [
    "# input()에 대한 테스트\n",
    "# input()의 반환 값은 문자열이므로 원하는 자료형으로 형변환이 필요함\n",
    "# 문제점: 형변환이 안될 수도 있음\n",
    "# 내부에서 사용하려는 자료형을  고려해서 형변환이 가능한 형태로 정확하게 입력해야 함\n",
    "\n",
    "n = input(\"실수를 입력하세요\")\n",
    "print(type(n)) # 입력한 직후 타입\n",
    "\n",
    "n = float(n)\n",
    "print(type(n)) # 형변환 이후 타입"
   ]
  },
  {
   "cell_type": "code",
   "execution_count": 82,
   "metadata": {},
   "outputs": [
    {
     "name": "stdout",
     "output_type": "stream",
     "text": [
      "<class 'str'>\n"
     ]
    },
    {
     "ename": "ValueError",
     "evalue": "invalid literal for int() with base 10: '1.0'",
     "output_type": "error",
     "traceback": [
      "\u001b[0;31m---------------------------------------------------------------------------\u001b[0m",
      "\u001b[0;31mValueError\u001b[0m                                Traceback (most recent call last)",
      "Cell \u001b[0;32mIn [82], line 4\u001b[0m\n\u001b[1;32m      1\u001b[0m n \u001b[38;5;241m=\u001b[39m \u001b[38;5;28minput\u001b[39m(\u001b[38;5;124m\"\u001b[39m\u001b[38;5;124m논리값를 입력하세요\u001b[39m\u001b[38;5;124m\"\u001b[39m)\n\u001b[1;32m      2\u001b[0m \u001b[38;5;28mprint\u001b[39m(\u001b[38;5;28mtype\u001b[39m(n)) \u001b[38;5;66;03m# 입력한 직후 타입\u001b[39;00m\n\u001b[0;32m----> 4\u001b[0m n \u001b[38;5;241m=\u001b[39m \u001b[38;5;28mint\u001b[39m(\u001b[38;5;28;43mint\u001b[39;49m\u001b[43m(\u001b[49m\u001b[43mn\u001b[49m\u001b[43m)\u001b[49m)\n\u001b[1;32m      5\u001b[0m \u001b[38;5;28mprint\u001b[39m(n) \u001b[38;5;66;03m# 모두 True로 나옴\u001b[39;00m\n\u001b[1;32m      6\u001b[0m \u001b[38;5;28mprint\u001b[39m(\u001b[38;5;28mtype\u001b[39m(n))\n",
      "\u001b[0;31mValueError\u001b[0m: invalid literal for int() with base 10: '1.0'"
     ]
    }
   ],
   "source": [
    "n = input(\"논리값를 입력하세요\")\n",
    "print(type(n)) # 입력한 직후 타입\n",
    "\n",
    "n = bool(n)\n",
    "print(n) # 모두 True로 나옴\n",
    "print(type(n)) # 형변환 이후 타입"
   ]
  },
  {
   "cell_type": "code",
   "execution_count": null,
   "metadata": {},
   "outputs": [],
   "source": []
  }
 ],
 "metadata": {
  "kernelspec": {
   "display_name": "Python 3.9.13 64-bit",
   "language": "python",
   "name": "python3"
  },
  "language_info": {
   "codemirror_mode": {
    "name": "ipython",
    "version": 3
   },
   "file_extension": ".py",
   "mimetype": "text/x-python",
   "name": "python",
   "nbconvert_exporter": "python",
   "pygments_lexer": "ipython3",
   "version": "3.9.13"
  },
  "orig_nbformat": 4,
  "vscode": {
   "interpreter": {
    "hash": "aee8b7b246df8f9039afb4144a1f6fd8d2ca17a180786b69acc140d282b71a49"
   }
  }
 },
 "nbformat": 4,
 "nbformat_minor": 2
}
