{
 "cells": [
  {
   "cell_type": "markdown",
   "metadata": {},
   "source": [
    "### 리스트"
   ]
  },
  {
   "cell_type": "code",
   "execution_count": 2,
   "metadata": {},
   "outputs": [
    {
     "name": "stdout",
     "output_type": "stream",
     "text": [
      "[]\n",
      "<class 'list'>\n",
      "[]\n",
      "<class 'list'>\n"
     ]
    }
   ],
   "source": [
    "# 리스트 생성 1 : 빈 리스트\n",
    "\n",
    "# 함수로 만들기\n",
    "l = list()\n",
    "print(l)\n",
    "print(type(l))\n",
    "\n",
    "# 기호로 만들기\n",
    "l = []\n",
    "print(l)\n",
    "print(type(l))"
   ]
  },
  {
   "cell_type": "code",
   "execution_count": 6,
   "metadata": {},
   "outputs": [
    {
     "name": "stdout",
     "output_type": "stream",
     "text": [
      "['핫도그', '햄버거', '샌드위치', '피자', '타코']\n",
      "<class 'list'>\n",
      "['핫도그', '햄버거', '샌드위치', '피자', '타코']\n",
      "<class 'list'>\n",
      "['핫', '도', '그']\n",
      "<class 'list'>\n"
     ]
    }
   ],
   "source": [
    "# 리스트 생성 2 : 값이 있는 리스트\n",
    "# 리스트 값을 직접 지정\n",
    "l = ['핫도그', '햄버거', '샌드위치', '피자', '타코']\n",
    "print(l)\n",
    "print(type(l))\n",
    "\n",
    "# 리스트 값을 함수로 지정\n",
    "l = list(['핫도그', '햄버거', '샌드위치', '피자', '타코'])\n",
    "print(l)\n",
    "print(type(l))\n",
    "\n",
    "# \n",
    "l = list('핫도그')\n",
    "print(l)\n",
    "print(type(l))"
   ]
  },
  {
   "cell_type": "code",
   "execution_count": 1,
   "metadata": {},
   "outputs": [
    {
     "name": "stdout",
     "output_type": "stream",
     "text": [
      "햄버거\n",
      "타코\n",
      "햄버거\n"
     ]
    }
   ],
   "source": [
    "# 리스트 항목 접근\n",
    "# 리스트는 순서 있고 인덱싱 가능\n",
    "l = ['핫도그', '햄버거', '샌드위치', '피자', '타코']\n",
    "print(l[1])\n",
    "print(l[-1])\n",
    "\n",
    "# 햄버거를 음수 인덱스로 접근하면? \n",
    "l = ['핫도그', '햄버거', '샌드위치', '피자', '타코']\n",
    "print(l[-4])"
   ]
  },
  {
   "cell_type": "markdown",
   "metadata": {},
   "source": [
    "> 슬라이싱"
   ]
  },
  {
   "cell_type": "code",
   "execution_count": 6,
   "metadata": {},
   "outputs": [
    {
     "name": "stdout",
     "output_type": "stream",
     "text": [
      "['샌드위치', '피자', '타코']\n",
      "['핫도그', '햄버거', '샌드위치', '피자']\n",
      "['피자', '타코']\n",
      "['햄버거', '샌드위치', '피자']\n"
     ]
    }
   ],
   "source": [
    "# 범위 인덱스 : 슬라이싱(slicing)\n",
    "# [시작 : 끝 : 스텝] ~ 시작 인덱스부터 끝-1 인덱스까지 스텝만큼 움직이면서 슬라이싱\n",
    "\n",
    "l = ['핫도그', '햄버거', '샌드위치', '피자', '타코']\n",
    "print(l[2:5])\n",
    "print(l[:4])\n",
    "print(l[3:])\n",
    "print(l[-4:-1])"
   ]
  },
  {
   "cell_type": "code",
   "execution_count": 5,
   "metadata": {},
   "outputs": [
    {
     "name": "stdout",
     "output_type": "stream",
     "text": [
      "['핫도그', '샌드위치', '타코']\n"
     ]
    }
   ],
   "source": [
    "# 문제 : 인덱스 0을 포함해 짝수 위치의 데이터 항목만 출력\n",
    "print(l[::2])"
   ]
  },
  {
   "cell_type": "markdown",
   "metadata": {},
   "source": [
    "> 값 변경"
   ]
  },
  {
   "cell_type": "code",
   "execution_count": 7,
   "metadata": {},
   "outputs": [
    {
     "name": "stdout",
     "output_type": "stream",
     "text": [
      "['호떡', '햄버거', '샌드위치', '피자', '타코']\n"
     ]
    }
   ],
   "source": [
    "# 데이터 항목 값 변경 \n",
    "l = ['핫도그', '햄버거', '샌드위치', '피자', '타코']\n",
    "l[0] = '호떡'\n",
    "print(l)"
   ]
  },
  {
   "cell_type": "markdown",
   "metadata": {},
   "source": [
    "> 값 접근"
   ]
  },
  {
   "cell_type": "code",
   "execution_count": 13,
   "metadata": {},
   "outputs": [
    {
     "name": "stdout",
     "output_type": "stream",
     "text": [
      "호떡은(는) <class 'str'> 타입\n",
      "햄버거은(는) <class 'str'> 타입\n",
      "샌드위치은(는) <class 'str'> 타입\n",
      "피자은(는) <class 'str'> 타입\n",
      "타코은(는) <class 'str'> 타입\n"
     ]
    }
   ],
   "source": [
    "# 반복문을 사용한 데이터 항목 접근\n",
    "for food in l:\n",
    "    print(f'{food}은(는) {type(food)} 타입')\n"
   ]
  },
  {
   "cell_type": "code",
   "execution_count": 22,
   "metadata": {},
   "outputs": [
    {
     "name": "stdout",
     "output_type": "stream",
     "text": [
      "1 은(는) <class 'int'> 타입\n",
      "3.14 은(는) <class 'float'> 타입\n",
      "홍길동 은(는) <class 'str'> 타입\n",
      "True 은(는) <class 'bool'> 타입\n",
      "None 은(는) <class 'NoneType'> 타입\n",
      "(3+2j) 은(는) <class 'complex'> 타입\n",
      "['마라탕', '꿔바로우'] 은(는) <class 'list'> 타입\n"
     ]
    }
   ],
   "source": [
    "# 리스트의 데이터 항목은 여러가지 데이터 타입이 혼용될 수 있음\n",
    "mixed_list = [ 1, 3.14, '홍길동', True, None, 3 + 2j, ['마라탕', '꿔바로우'] ]\n",
    "for item in mixed_list:\n",
    "    print(f'{item} 은(는) {type(item)} 타입')"
   ]
  },
  {
   "cell_type": "markdown",
   "metadata": {},
   "source": [
    "> 값 검사"
   ]
  },
  {
   "cell_type": "code",
   "execution_count": 23,
   "metadata": {},
   "outputs": [
    {
     "name": "stdout",
     "output_type": "stream",
     "text": [
      "음식 리스트에 있음\n"
     ]
    }
   ],
   "source": [
    "# 데이터 항목 존재 검사\n",
    "l = ['핫도그', '햄버거', '샌드위치', '피자', '타코']\n",
    "if '햄버거' in l:\n",
    "    print(\"음식 리스트에 있음\")"
   ]
  },
  {
   "cell_type": "code",
   "execution_count": 28,
   "metadata": {},
   "outputs": [
    {
     "name": "stdout",
     "output_type": "stream",
     "text": [
      "음식 리스트에 있음\n"
     ]
    }
   ],
   "source": [
    "# 문제 : 리스트에 서브리스트 존재 여부 검사 가능한가?\n",
    "l = ['핫도그', '햄버거', '샌드위치', '피자', '타코']\n",
    "if ['핫도그', '햄버거'] in l:\n",
    "    print(\"음식 리스트에 있음\")\n",
    "\n",
    "# 검사할 수 있는 방법은?\n",
    "if '핫도그' and '햄버거' in l:\n",
    "    print(\"음식 리스트에 있음\")"
   ]
  },
  {
   "cell_type": "markdown",
   "metadata": {},
   "source": [
    "> 리스트 길이"
   ]
  },
  {
   "cell_type": "code",
   "execution_count": 29,
   "metadata": {},
   "outputs": [
    {
     "name": "stdout",
     "output_type": "stream",
     "text": [
      "5\n"
     ]
    }
   ],
   "source": [
    "# 데이터 항목 개수 (리스트 길이)\n",
    "l = ['핫도그', '햄버거', '샌드위치', '피자', '타코']\n",
    "print(len(l))"
   ]
  },
  {
   "cell_type": "markdown",
   "metadata": {},
   "source": [
    "> 데이터 항목 추가"
   ]
  },
  {
   "cell_type": "code",
   "execution_count": 30,
   "metadata": {},
   "outputs": [
    {
     "name": "stdout",
     "output_type": "stream",
     "text": [
      "['핫도그', '햄버거', '샌드위치', '피자']\n"
     ]
    }
   ],
   "source": [
    "# 데이터 항목 추가: 디폴드로 맨 뒤에 append()\n",
    "l = ['핫도그', '햄버거', '샌드위치']\n",
    "l.append(\"피자\")\n",
    "print(l)"
   ]
  },
  {
   "cell_type": "code",
   "execution_count": 33,
   "metadata": {},
   "outputs": [
    {
     "name": "stdout",
     "output_type": "stream",
     "text": [
      "4706999104\n",
      "['핫도그', '피자', '햄버거', '샌드위치']\n",
      "4706999104\n"
     ]
    }
   ],
   "source": [
    "# 데이터 항목 추가: 특정 인덱스에 insert()\n",
    "l = ['핫도그', '햄버거', '샌드위치']\n",
    "l.insert(1, \"피자\")\n",
    "print(l)"
   ]
  },
  {
   "cell_type": "code",
   "execution_count": 34,
   "metadata": {},
   "outputs": [
    {
     "name": "stdout",
     "output_type": "stream",
     "text": [
      "4421933440\n",
      "['핫도그', '피자', '햄버거', '샌드위치']\n",
      "4421933440\n"
     ]
    }
   ],
   "source": [
    "# 리스트에 데이터 항목이 추가되어도 주소는 바뀌지 않음\n",
    "l = ['핫도그', '햄버거', '샌드위치']\n",
    "print(id(l))\n",
    "l.insert(1, \"피자\")\n",
    "print(l)\n",
    "print(id(l))"
   ]
  },
  {
   "cell_type": "markdown",
   "metadata": {},
   "source": [
    "> 데이터 항목 삭제"
   ]
  },
  {
   "cell_type": "code",
   "execution_count": 35,
   "metadata": {},
   "outputs": [
    {
     "name": "stdout",
     "output_type": "stream",
     "text": [
      "['햄버거', '샌드위치']\n"
     ]
    }
   ],
   "source": [
    "# 데이터 항목 삭제: 특정 항목 지정, 반환값 없음\n",
    "l = ['핫도그', '햄버거', '샌드위치']\n",
    "l.remove(\"핫도그\")\n",
    "print(l)\n",
    "\n",
    "# 이건 안됨 아래 블럭을 써야함\n",
    "# l.remove(0)"
   ]
  },
  {
   "cell_type": "code",
   "execution_count": 37,
   "metadata": {},
   "outputs": [
    {
     "name": "stdout",
     "output_type": "stream",
     "text": [
      "pop(1)의 결과 햄버거,\n",
      "pop(1) 후 리스트 l의 상태['핫도그', '샌드위치', '피자', '타코']\n",
      "pop()의 결과 타코,\n",
      "pop() 후 리스트 l의 상태['핫도그', '샌드위치', '피자']\n"
     ]
    }
   ],
   "source": [
    "# 데이터 항목 삭제: 특정 위치 항목(인덱스 지정 O) 또는\n",
    "# 맨 마지막 항목(인덱스 지정 X), 반환값 있음\n",
    "l = ['핫도그', '햄버거', '샌드위치', '피자', '타코']\n",
    "\n",
    "# 인덱스 지정: 지정한 인덱스의 데이터 항목 삭제\n",
    "item = l.pop(1)\n",
    "print(f'pop(1)의 결과 {item},\\npop(1) 후 리스트 l의 상태{l}')\n",
    "\n",
    "# 인덱스 지정 안함: 마지막 데이터 항목 삭제\n",
    "item = l.pop()\n",
    "print(f'pop()의 결과 {item},\\npop() 후 리스트 l의 상태{l}')"
   ]
  },
  {
   "cell_type": "markdown",
   "metadata": {},
   "source": [
    "> del"
   ]
  },
  {
   "cell_type": "code",
   "execution_count": 38,
   "metadata": {},
   "outputs": [
    {
     "name": "stdout",
     "output_type": "stream",
     "text": [
      "['햄버거', '샌드위치', '피자', '타코']\n"
     ]
    }
   ],
   "source": [
    "# 데이터 항목 삭제: 특정 위치 항목(인덱스 지정 O) 또는 리스트 자체(인덱스 지정 x)\n",
    "l = ['핫도그', '햄버거', '샌드위치', '피자', '타코']\n",
    "del l[0]\n",
    "print(l)"
   ]
  },
  {
   "cell_type": "code",
   "execution_count": 39,
   "metadata": {},
   "outputs": [
    {
     "ename": "NameError",
     "evalue": "name 'l' is not defined",
     "output_type": "error",
     "traceback": [
      "\u001b[0;31m---------------------------------------------------------------------------\u001b[0m",
      "\u001b[0;31mNameError\u001b[0m                                 Traceback (most recent call last)",
      "Cell \u001b[0;32mIn [39], line 2\u001b[0m\n\u001b[1;32m      1\u001b[0m \u001b[38;5;28;01mdel\u001b[39;00m l \u001b[38;5;66;03m# 주의 : 삭제 후 변수 l 없어짐, 변수 l 참조하면 에러 발생\u001b[39;00m\n\u001b[0;32m----> 2\u001b[0m \u001b[38;5;28mprint\u001b[39m(\u001b[43ml\u001b[49m)\n",
      "\u001b[0;31mNameError\u001b[0m: name 'l' is not defined"
     ]
    }
   ],
   "source": [
    "del l # 주의 : 삭제 후 변수 l 없어짐, 변수 l 참조하면 에러 발생\n",
    "print(l)"
   ]
  },
  {
   "cell_type": "code",
   "execution_count": 40,
   "metadata": {},
   "outputs": [
    {
     "name": "stdout",
     "output_type": "stream",
     "text": [
      "10\n"
     ]
    }
   ],
   "source": [
    "# 문제: del은 리스트에 대해서만 작동하는가?\n",
    "# 모든 변수에 대해 동작\n",
    "x = 10\n",
    "print(x)\n",
    "del x\n",
    "#print(x)\n"
   ]
  },
  {
   "cell_type": "markdown",
   "metadata": {},
   "source": [
    "> clear"
   ]
  },
  {
   "cell_type": "code",
   "execution_count": 43,
   "metadata": {},
   "outputs": [
    {
     "name": "stdout",
     "output_type": "stream",
     "text": [
      "[]\n"
     ]
    }
   ],
   "source": [
    "# 데이터 항목 삭제: 전체 지우고 변수는 유지\n",
    "l = ['핫도그', '햄버거', '샌드위치', '피자', '타코']\n",
    "l.clear()\n",
    "print(l)"
   ]
  },
  {
   "cell_type": "code",
   "execution_count": 44,
   "metadata": {},
   "outputs": [
    {
     "name": "stdout",
     "output_type": "stream",
     "text": [
      "<class 'list'>\n",
      "<class 'NoneType'>\n"
     ]
    }
   ],
   "source": [
    "# 문제 : 리스트가 []와 None의 차이점?\n",
    "# 빈 리스트는 있어도 None 리스트는 없다\n",
    "l = []\n",
    "print(type(l))\n",
    "\n",
    "l = None\n",
    "print(type(l))\n"
   ]
  },
  {
   "cell_type": "markdown",
   "metadata": {},
   "source": [
    "> 얕은 복사"
   ]
  },
  {
   "cell_type": "code",
   "execution_count": 45,
   "metadata": {},
   "outputs": [
    {
     "name": "stdout",
     "output_type": "stream",
     "text": [
      "l_cpy = l_org 실행 후 l_org의 값 ['핫도그', '햄버거', '샌드위치', '피자', '타코']\n",
      "l_cpy = l_org 실행 후 l_cpy의 값 ['핫도그', '햄버거', '샌드위치', '피자', '타코']\n",
      "l_cpy = l_org 실행 후 l_org의 주소 4730041344\n",
      "l_cpy = l_org 실행 후 l_cpy의 주소 4730041344\n"
     ]
    }
   ],
   "source": [
    "# 리스트 복사: 대입(얕은 복사, shallow copy)\n",
    "l_org = ['핫도그', '햄버거', '샌드위치', '피자', '타코']\n",
    "l_cpy = l_org\n",
    "print(f'l_cpy = l_org 실행 후 l_org의 값 {l_org}')\n",
    "print(f'l_cpy = l_org 실행 후 l_cpy의 값 {l_cpy}')\n",
    "\n",
    "print(f'l_cpy = l_org 실행 후 l_org의 주소 {id(l_org)}')\n",
    "print(f'l_cpy = l_org 실행 후 l_cpy의 주소 {id(l_cpy)}')"
   ]
  },
  {
   "cell_type": "code",
   "execution_count": 46,
   "metadata": {},
   "outputs": [
    {
     "name": "stdout",
     "output_type": "stream",
     "text": [
      "['호떡', '햄버거', '샌드위치', '피자', '타코']\n",
      "['호떡', '햄버거', '샌드위치', '피자', '타코']\n"
     ]
    }
   ],
   "source": [
    "# 해보기 : 위 코드에서 l_org의 '핫도그'를 '호떡'으로 바꾼다면?\n",
    "# 결론 : l_cpy = l_org 한 것은 복사한 게 아님\n",
    "l_org[0] = '호떡'\n",
    "print(l_org)\n",
    "print(l_cpy)"
   ]
  },
  {
   "cell_type": "code",
   "execution_count": 50,
   "metadata": {},
   "outputs": [
    {
     "name": "stdout",
     "output_type": "stream",
     "text": [
      "copy() 실행 후 l_org의 값 [['핫도그', '햄버거'], ['샌드위치', '피자', '타코']]\n",
      "copy() 실행 후 l_cpy의 값 [['핫도그', '햄버거'], ['샌드위치', '피자', '타코']]\n",
      "copy() 실행 후 l_org의 주소 4707103616\n",
      "copy() 실행 후 l_cpy의 주소 4706954368\n",
      "copy() 실행 후 l_org[0]의 주소 4706930880\n",
      "copy() 실행 후 l_cpy[0]의 주소 4706930880\n",
      "copy() 실행 후 l_org[1]의 주소 4707105408\n",
      "copy() 실행 후 l_cpy[1]의 주소 4707105408\n"
     ]
    }
   ],
   "source": [
    "l_org = [['핫도그', '햄버거'], ['샌드위치', '피자', '타코']]\n",
    "l_cpy = l_org.copy()\n",
    "\n",
    "print(f'copy() 실행 후 l_org의 값 {l_org}')\n",
    "print(f'copy() 실행 후 l_cpy의 값 {l_cpy}')\n",
    "\n",
    "print(f'copy() 실행 후 l_org의 주소 {id(l_org)}')\n",
    "print(f'copy() 실행 후 l_cpy의 주소 {id(l_cpy)}')\n",
    "\n",
    "print(f'copy() 실행 후 l_org[0]의 주소 {id(l_org[0])}')\n",
    "print(f'copy() 실행 후 l_cpy[0]의 주소 {id(l_cpy[0])}')\n",
    "print(f'copy() 실행 후 l_org[1]의 주소 {id(l_org[1])}')\n",
    "print(f'copy() 실행 후 l_cpy[1]의 주소 {id(l_cpy[1])}')"
   ]
  },
  {
   "cell_type": "markdown",
   "metadata": {},
   "source": [
    "> 깊은 복사"
   ]
  },
  {
   "cell_type": "code",
   "execution_count": 52,
   "metadata": {},
   "outputs": [
    {
     "name": "stdout",
     "output_type": "stream",
     "text": [
      "copy() 실행 후 l_org의 값 [['핫도그', '햄버거'], ['샌드위치', '피자', '타코']]\n",
      "copy() 실행 후 l_cpy의 값 [['핫도그', '햄버거'], ['샌드위치', '피자', '타코']]\n",
      "copy() 실행 후 l_org의 주소 4707204608\n",
      "copy() 실행 후 l_cpy의 주소 4706163072\n",
      "copy() 실행 후 l_org[0]의 주소 4707204864\n",
      "copy() 실행 후 l_cpy[0]의 주소 4707204864\n",
      "copy() 실행 후 l_org[1]의 주소 4730046144\n",
      "copy() 실행 후 l_cpy[1]의 주소 4730046144\n"
     ]
    }
   ],
   "source": [
    "# 리스트 복사: copy 클래스 사용 얕은 복사는 copy.copy() 사용\n",
    "\n",
    "import copy\n",
    "\n",
    "l_org = [['핫도그', '햄버거'], ['샌드위치', '피자', '타코']]\n",
    "l_cpy = copy.copy(l_org) # 얕은 복사\n",
    "print(f'copy() 실행 후 l_org의 값 {l_org}')\n",
    "print(f'copy() 실행 후 l_cpy의 값 {l_cpy}')\n",
    "\n",
    "print(f'copy() 실행 후 l_org의 주소 {id(l_org)}')\n",
    "print(f'copy() 실행 후 l_cpy의 주소 {id(l_cpy)}')\n",
    "\n",
    "print(f'copy() 실행 후 l_org[0]의 주소 {id(l_org[0])}')\n",
    "print(f'copy() 실행 후 l_cpy[0]의 주소 {id(l_cpy[0])}')\n",
    "print(f'copy() 실행 후 l_org[1]의 주소 {id(l_org[1])}')\n",
    "print(f'copy() 실행 후 l_cpy[1]의 주소 {id(l_cpy[1])}')"
   ]
  },
  {
   "cell_type": "code",
   "execution_count": 53,
   "metadata": {},
   "outputs": [
    {
     "name": "stdout",
     "output_type": "stream",
     "text": [
      "copy() 실행 후 l_org의 값 [['핫도그', '햄버거'], ['샌드위치', '피자', '타코']]\n",
      "copy() 실행 후 l_cpy의 값 [['핫도그', '햄버거'], ['샌드위치', '피자', '타코']]\n",
      "copy() 실행 후 l_org의 주소 4707105408\n",
      "copy() 실행 후 l_cpy의 주소 4706953856\n",
      "copy() 실행 후 l_org[0]의 주소 4706930880\n",
      "copy() 실행 후 l_cpy[0]의 주소 4706894080\n",
      "copy() 실행 후 l_org[1]의 주소 4706954368\n",
      "copy() 실행 후 l_cpy[1]의 주소 4730110848\n"
     ]
    }
   ],
   "source": [
    "# 리스트 복사: copy 클래스 사용 깊은 복사는 copy.deepcopy() 사용\n",
    "# 깊은 복사를 하기 위해 copy 클래스를 임포트 (얕은 복사는 그냥 .copy()로 하면 됨)\n",
    "import copy\n",
    "\n",
    "l_org = [['핫도그', '햄버거'], ['샌드위치', '피자', '타코']]\n",
    "l_cpy = copy.deepcopy(l_org) # 깊은 복사\n",
    "print(f'copy() 실행 후 l_org의 값 {l_org}')\n",
    "print(f'copy() 실행 후 l_cpy의 값 {l_cpy}')\n",
    "\n",
    "print(f'copy() 실행 후 l_org의 주소 {id(l_org)}')\n",
    "print(f'copy() 실행 후 l_cpy의 주소 {id(l_cpy)}')\n",
    "\n",
    "print(f'copy() 실행 후 l_org[0]의 주소 {id(l_org[0])}')\n",
    "print(f'copy() 실행 후 l_cpy[0]의 주소 {id(l_cpy[0])}')\n",
    "print(f'copy() 실행 후 l_org[1]의 주소 {id(l_org[1])}')\n",
    "print(f'copy() 실행 후 l_cpy[1]의 주소 {id(l_cpy[1])}')"
   ]
  },
  {
   "cell_type": "markdown",
   "metadata": {},
   "source": [
    "> 두 리스트 합치기(join)"
   ]
  },
  {
   "cell_type": "code",
   "execution_count": 55,
   "metadata": {},
   "outputs": [
    {
     "name": "stdout",
     "output_type": "stream",
     "text": [
      "['샌드위치', '피자', '핫도그', '햄버거']\n"
     ]
    }
   ],
   "source": [
    "# 두 리스트 합치기: + 연산자 사용\n",
    "l1 = ['핫도그', '햄버거']\n",
    "l2 = ['샌드위치', '피자']\n",
    "l = l2 + l1\n",
    "print(l)"
   ]
  },
  {
   "cell_type": "code",
   "execution_count": 56,
   "metadata": {},
   "outputs": [
    {
     "name": "stdout",
     "output_type": "stream",
     "text": [
      "['핫도그', '햄버거', '샌드위치', '피자']\n"
     ]
    }
   ],
   "source": [
    "# extend() 함수 사용\n",
    "# 단일 리스트로 나옴\n",
    "l1 = ['핫도그', '햄버거']\n",
    "l2 = ['샌드위치', '피자']\n",
    "l = l1\n",
    "l.extend(l2)\n",
    "print(l)"
   ]
  },
  {
   "cell_type": "code",
   "execution_count": 57,
   "metadata": {},
   "outputs": [
    {
     "name": "stdout",
     "output_type": "stream",
     "text": [
      "[['핫도그', '햄버거'], ['샌드위치', '피자']]\n"
     ]
    }
   ],
   "source": [
    "# append() 함수 사용\n",
    "# 초기화를 했어서 2차원이 됨\n",
    "l1 = ['핫도그', '햄버거']\n",
    "l2 = ['샌드위치', '피자']\n",
    "l = []\n",
    "l.append(l1)\n",
    "l.append(l2)\n",
    "print(l)"
   ]
  },
  {
   "cell_type": "code",
   "execution_count": 104,
   "metadata": {},
   "outputs": [
    {
     "name": "stdout",
     "output_type": "stream",
     "text": [
      "['핫도그', '햄버거']\n",
      "['핫도그', '햄버거', '샌드위치', '피자']\n"
     ]
    }
   ],
   "source": [
    "# 리스트 합치기: 반복문 활용\n",
    "l1 = ['핫도그', '햄버거']\n",
    "l2 = ['샌드위치', '피자']\n",
    "l = l1\n",
    "print(l)\n",
    "for x in l2:\n",
    "    l.append(x)\n",
    "print(l)"
   ]
  },
  {
   "cell_type": "code",
   "execution_count": 76,
   "metadata": {},
   "outputs": [
    {
     "name": "stdout",
     "output_type": "stream",
     "text": [
      "['busy', 'easy', 'symphony']\n"
     ]
    }
   ],
   "source": [
    "# 문제 : 리스트 l1, l2가 다음과 같을 때 'sy'가 들어있는 데이터 항목들만 뽑아서 \n",
    "# 리스트 l을 구성\n",
    "l1 = ['busy', 'bass', 'easy', 'as']\n",
    "l2 = ['buzzy', 'aws', 'symphony', 'fuzy']\n",
    "\n",
    "l = []\n",
    "for item in l1 + l2:\n",
    "    if 'sy' in item:\n",
    "        l.append(item)\n",
    "\n",
    "print(l)"
   ]
  },
  {
   "cell_type": "code",
   "execution_count": 103,
   "metadata": {},
   "outputs": [
    {
     "name": "stdout",
     "output_type": "stream",
     "text": [
      "[5, 4, 3, 2, 1]\n",
      "None\n"
     ]
    }
   ],
   "source": [
    "# 문제: 다음과 같은 리스트가 있을 때 데이터 항목의 순서를 거꾸로 만들어라\n",
    "l = [1, 2, 3, 4, 5]\n",
    "\n",
    "# for 문으로 해보기\n",
    "tmp = []\n",
    "for x in range(len(l)):\n",
    "    tmp.append(l[len(l)-x-1])\n",
    "print(tmp)\n",
    "\n",
    "# reverse() 함수 사용\n",
    "l = [1, 2, 3, 4, 5]\n",
    "l = l.reverse()   \n",
    "print(l)"
   ]
  },
  {
   "cell_type": "markdown",
   "metadata": {},
   "source": [
    "### 튜플"
   ]
  },
  {
   "cell_type": "code",
   "execution_count": 1,
   "metadata": {},
   "outputs": [
    {
     "name": "stdout",
     "output_type": "stream",
     "text": [
      "<class 'tuple'>\n",
      "()\n"
     ]
    }
   ],
   "source": [
    "# 빈 튜플 생성\n",
    "t = ()\n",
    "print(type(t))\n",
    "print(t)"
   ]
  },
  {
   "cell_type": "code",
   "execution_count": 2,
   "metadata": {},
   "outputs": [
    {
     "name": "stdout",
     "output_type": "stream",
     "text": [
      "<class 'tuple'>\n",
      "()\n"
     ]
    }
   ],
   "source": [
    "# 빈 튜플 생성\n",
    "t = tuple()\n",
    "print(type(t))\n",
    "print(t)"
   ]
  },
  {
   "cell_type": "code",
   "execution_count": 4,
   "metadata": {},
   "outputs": [
    {
     "name": "stdout",
     "output_type": "stream",
     "text": [
      "<class 'tuple'>\n",
      "('김경민', '컴퓨터소프트웨어과', 2, 4.0, 2)\n",
      "<class 'tuple'>\n",
      "('김경민', '컴퓨터소프트웨어과', 2, 4.0, 2)\n"
     ]
    }
   ],
   "source": [
    "# tuple() 메소드로 데이터 항목을 갖도록 초기화\n",
    "\n",
    "# 기준 튜플로 새로운 튜플 생성\n",
    "t = tuple((\"김경민\", \"컴퓨터소프트웨어과\", 2, 4.0, 2))\n",
    "print(type(t))\n",
    "print(t)\n",
    "\n",
    "# 기존 리스트로 새로운 튜플 생성\n",
    "t = tuple([\"김경민\", \"컴퓨터소프트웨어과\", 2, 4.0, 2])\n",
    "print(type(t))\n",
    "print(t)"
   ]
  },
  {
   "cell_type": "code",
   "execution_count": 9,
   "metadata": {},
   "outputs": [
    {
     "name": "stdout",
     "output_type": "stream",
     "text": [
      "<class 'tuple'>\n",
      "('김경민', '컴퓨터소프트웨어과', 2, 4.0, 2)\n",
      "김경민\n",
      "4.0\n",
      "4.0\n"
     ]
    },
    {
     "ename": "IndexError",
     "evalue": "tuple index out of range",
     "output_type": "error",
     "traceback": [
      "\u001b[0;31m---------------------------------------------------------------------------\u001b[0m",
      "\u001b[0;31mIndexError\u001b[0m                                Traceback (most recent call last)",
      "Cell \u001b[0;32mIn [9], line 9\u001b[0m\n\u001b[1;32m      6\u001b[0m \u001b[39mprint\u001b[39m(t[\u001b[39m-\u001b[39m\u001b[39m2\u001b[39m])\n\u001b[1;32m      8\u001b[0m \u001b[39m# 인덱스 범위 벗어나서 참조하면?\u001b[39;00m\n\u001b[0;32m----> 9\u001b[0m \u001b[39mprint\u001b[39m(t[\u001b[39m10\u001b[39;49m])\n",
      "\u001b[0;31mIndexError\u001b[0m: tuple index out of range"
     ]
    }
   ],
   "source": [
    "t = (\"김경민\", \"컴퓨터소프트웨어과\", 2, 4.0, 2)\n",
    "print(type(t))\n",
    "print(t)\n",
    "print(t[0]) # 김경민 출력\n",
    "print(t[3]) # 학점 4.0 출력\n",
    "print(t[-2])\n",
    "\n",
    "# 인덱스 범위 벗어나서 참조하면? ==> tuple index out of range\n",
    "print(t[10])"
   ]
  },
  {
   "cell_type": "code",
   "execution_count": 10,
   "metadata": {},
   "outputs": [
    {
     "ename": "TypeError",
     "evalue": "'tuple' object does not support item assignment",
     "output_type": "error",
     "traceback": [
      "\u001b[0;31m---------------------------------------------------------------------------\u001b[0m",
      "\u001b[0;31mTypeError\u001b[0m                                 Traceback (most recent call last)",
      "Cell \u001b[0;32mIn [10], line 3\u001b[0m\n\u001b[1;32m      1\u001b[0m \u001b[39m# t = (\"김경민\", \"컴퓨터소프트웨어과\", 2, 4.0, 2)\u001b[39;00m\n\u001b[1;32m      2\u001b[0m \u001b[39m# 위 t에서 김경민을 홍길동으로 변경하면? ==> \u001b[39;00m\n\u001b[0;32m----> 3\u001b[0m t[\u001b[39m0\u001b[39;49m] \u001b[39m=\u001b[39m \u001b[39m'\u001b[39m\u001b[39m홍길동\u001b[39m\u001b[39m'\u001b[39m\n",
      "\u001b[0;31mTypeError\u001b[0m: 'tuple' object does not support item assignment"
     ]
    }
   ],
   "source": [
    "# t = (\"김경민\", \"컴퓨터소프트웨어과\", 2, 4.0, 2)\n",
    "# 위 t에서 김경민을 홍길동으로 변경하면? ==> 'tuple' object does not support item assignment\n",
    "t[0] = '홍길동'"
   ]
  },
  {
   "cell_type": "code",
   "execution_count": 14,
   "metadata": {},
   "outputs": [
    {
     "name": "stdout",
     "output_type": "stream",
     "text": [
      "('김경민', '컴퓨터소프트웨어과', 2, 4.0, 2)\n",
      "('홍길동', '컴퓨터소프트웨어과', 2, 4.0, 2)\n"
     ]
    }
   ],
   "source": [
    "# 튜플 기존 데이터 항목 직접 변경 불가: \n",
    "# 리스트로 변환 -> 원하는 항목 변경 -> 튜플로 다시 변환\n",
    "t = (\"김경민\", \"컴퓨터소프트웨어과\", 2, 4.0, 2)\n",
    "print(t) # 변경 전\n",
    "l = list(t)\n",
    "l[0] = \"홍길동\"\n",
    "t = tuple(l)\n",
    "print(t) # 변경 후"
   ]
  },
  {
   "cell_type": "code",
   "execution_count": 16,
   "metadata": {},
   "outputs": [
    {
     "name": "stdout",
     "output_type": "stream",
     "text": [
      "('김경민', '컴퓨터소프트웨어과', 2, 4.0, 2)\n"
     ]
    }
   ],
   "source": [
    "# 튜플 데이터 항목 추가 불가 (수정불가)\n",
    "t = (\"김경민\", \"컴퓨터소프트웨어과\", 2, 4.0, 2)\n",
    "# t[5] = \"재학\" # 'tuple' object does not support item assignment\n",
    "print(t)"
   ]
  },
  {
   "cell_type": "code",
   "execution_count": 19,
   "metadata": {},
   "outputs": [
    {
     "name": "stdout",
     "output_type": "stream",
     "text": [
      "['김경민', '컴퓨터소프트웨어과', 2, 4.0, 2, '재학']\n",
      "('김경민', '컴퓨터소프트웨어과', 2, 4.0, 2, '재학')\n"
     ]
    }
   ],
   "source": [
    "# 튜플 데이터 -> 리스트로 변경 -> 재학여부 추가 -> 튜플로 변경\n",
    "t = (\"김경민\", \"컴퓨터소프트웨어과\", 2, 4.0, 2)\n",
    "l = list(t)\n",
    "l.append(\"재학\")\n",
    "print(l)\n",
    "t = tuple(l)\n",
    "print(t)"
   ]
  },
  {
   "cell_type": "code",
   "execution_count": 20,
   "metadata": {},
   "outputs": [
    {
     "name": "stdout",
     "output_type": "stream",
     "text": [
      "2\n",
      "<class 'int'>\n"
     ]
    }
   ],
   "source": [
    "# 튜플 인덱싱에 음수 인덱스 사용가능, 단, 인덱싱 가능 범위 내\n",
    "grade = t[-2]\n",
    "print(grade)\n",
    "print(type(grade))"
   ]
  },
  {
   "cell_type": "code",
   "execution_count": 22,
   "metadata": {},
   "outputs": [
    {
     "name": "stdout",
     "output_type": "stream",
     "text": [
      "('컴퓨터소프트웨어과', 2, 4.0)\n",
      "<class 'tuple'>\n"
     ]
    }
   ],
   "source": [
    "t = (\"김경민\", \"컴퓨터소프트웨어과\", 2, 4.0, 2)\n",
    "t_sub = t[1:4] # 슬라이스는 4까지 라면 3까지만\n",
    "print(t_sub)\n",
    "print(type(t_sub))"
   ]
  },
  {
   "cell_type": "code",
   "execution_count": 23,
   "metadata": {},
   "outputs": [
    {
     "name": "stdout",
     "output_type": "stream",
     "text": [
      "('컴퓨터소프트웨어과', 2, 4.0)\n",
      "<class 'tuple'>\n"
     ]
    }
   ],
   "source": [
    "t = (\"김경민\", \"컴퓨터소프트웨어과\", 2, 4.0, 2)\n",
    "t_sub = t[-4:-1] # 이것도 끝 값의 전까지만 '-1' - 1\n",
    "print(t_sub)\n",
    "print(type(t_sub))"
   ]
  },
  {
   "cell_type": "code",
   "execution_count": 29,
   "metadata": {},
   "outputs": [
    {
     "name": "stdout",
     "output_type": "stream",
     "text": [
      "김경민 컴퓨터소프트웨어과 2 4.0 2 \n",
      "김경민 컴퓨터소프트웨어과 2 4.0 2 "
     ]
    }
   ],
   "source": [
    "# 반복문 이용 튜플 전체 항목 방문\n",
    "t = (\"김경민\", \"컴퓨터소프트웨어과\", 2, 4.0, 2)\n",
    "\n",
    "# 튜플 자체를 for문에 활용하는 방법 \n",
    "# 자바에서는 참조만 가능한 수준이였는데 파이썬에선 이 방법으로 상세한 컨트롤 가능? -> 튜플 메서드 활용 아래 예제\n",
    "for feild in t:\n",
    "    print(feild, end=\" \")\n",
    "\n",
    "print()\n",
    "# 튜플 인덱스 범위를 for문에 활용하는 방법\n",
    "for index in range(len(t)):\n",
    "    print(t[index], end=\" \")"
   ]
  },
  {
   "cell_type": "code",
   "execution_count": 46,
   "metadata": {},
   "outputs": [
    {
     "name": "stdout",
     "output_type": "stream",
     "text": [
      "김경민 학생이 컴퓨터소프트웨어과에 있습니다\n",
      "김경민은 컴퓨터소프트웨어과에 있고, 각각 튜플의 0번째 1번째 데이터\n"
     ]
    }
   ],
   "source": [
    "# 데이터 항목 존재 검사\n",
    "t = (\"김경민\", \"컴퓨터소프트웨어과\", 2, 4.0, 2)\n",
    "if \"김경민\" and \"컴퓨터소프트웨어과\" in t: # 김경민이 t에 있고, 컴소과가 t에 있으면\n",
    "    print(\"김경민 학생이 컴퓨터소프트웨어과에 있습니다\")\n",
    "\n",
    "name = \"김경민\"\n",
    "dept = \"컴퓨터소프트웨어과\"\n",
    "if name and dept in t:\n",
    "    print('{}은 {}에 있고, 각각 튜플의 {}번째 {}번째 데이터'.format(name, dept, t.index(name), t.index(dept)))"
   ]
  },
  {
   "cell_type": "code",
   "execution_count": 43,
   "metadata": {},
   "outputs": [
    {
     "name": "stdout",
     "output_type": "stream",
     "text": [
      "1\n",
      "2\n",
      "1\n",
      "2\n"
     ]
    }
   ],
   "source": [
    "# 튜플 함수 사용 : count()\n",
    "t = (\"김경민\", \"컴퓨터소프트웨어과\", 2, 4.0, 2)\n",
    "cnt = t.count(\"김경민\")\n",
    "print(cnt)\n",
    "\n",
    "cnt = t.count(2)\n",
    "print(cnt)\n",
    "\n",
    "# 튜플 함수 사용: index() : 없는 것 찾으면 예외 발생\n",
    "index = t.index(\"컴퓨터소프트웨어과\")\n",
    "print(index)\n",
    "\n",
    "index = t.index(2)\n",
    "print(index)"
   ]
  },
  {
   "cell_type": "code",
   "execution_count": 48,
   "metadata": {},
   "outputs": [
    {
     "name": "stdout",
     "output_type": "stream",
     "text": [
      "()\n"
     ]
    }
   ],
   "source": [
    "# 튜플의 내용을 지우려면?: 값만 지워짐\n",
    "t = (\"김경민\", \"컴퓨터소프트웨어과\", 2, 4.0, 2)\n",
    "t = ()\n",
    "print(t)\n",
    "\n",
    "# 튜플 삭제: t 존재 자체가 삭제, del 이후 변수 t는 존재하지 않음\n",
    "del t\n",
    "# print(t)"
   ]
  },
  {
   "cell_type": "code",
   "execution_count": 49,
   "metadata": {},
   "outputs": [
    {
     "name": "stdout",
     "output_type": "stream",
     "text": [
      "('김경민', '컴퓨터소프트웨어과', 2, 4.0, 2)\n"
     ]
    }
   ],
   "source": [
    "# 튜플 합치기 : 하나의 튜플로 합쳐짐, db table 컬럼 나누었다 다시 합치는 것과 유사\n",
    "t1 = (\"김경민\", \"컴퓨터소프트웨어과\")\n",
    "t2 = (2, 4.0, 2)\n",
    "t = t1 + t2\n",
    "print(t)"
   ]
  },
  {
   "cell_type": "code",
   "execution_count": 53,
   "metadata": {},
   "outputs": [
    {
     "name": "stdout",
     "output_type": "stream",
     "text": [
      "튜플에 찾고자하는 인터넷정보는 없습니다\n"
     ]
    }
   ],
   "source": [
    "# 문제 dept = \"인터넷정보\" 일 때 \n",
    "# t = (\"김경민\", \"컴퓨터소프트웨어과\", 2, 4.0, 2)에 대해서\n",
    "# dept에 저장된 값의 인덱스를 살펴보고자 한다\n",
    "# 오류가 발생하지 않도록 안전하게 인덱스를 얻는 방법은?\n",
    "t = (\"김경민\", \"컴퓨터소프트웨어과\", 2, 4.0, 2)\n",
    "\n",
    "dept = \"인터넷정보\"\n",
    "if dept not in t:\n",
    "    print(f'튜플에 찾고자하는 {dept}는 없습니다')\n",
    "else:\n",
    "    a = t.index(dept)\n",
    "    print(a) "
   ]
  },
  {
   "cell_type": "code",
   "execution_count": 66,
   "metadata": {},
   "outputs": [
    {
     "name": "stdout",
     "output_type": "stream",
     "text": [
      "2\n",
      "4\n",
      "2\n",
      "4\n"
     ]
    }
   ],
   "source": [
    "# 문제 : t = (\"김경민\", \"컴퓨터소프트웨어과\", 2, 4.0, 2)에서 \n",
    "# 데이터 항목의 값 2의 모든 인덱스를 찾아라\n",
    "t = (\"김경민\", \"컴퓨터소프트웨어과\", 2, 4.0, 2)\n",
    "\n",
    "for index in range(len(t)):\n",
    "    if  t[index] == 2:\n",
    "        print(index)\n",
    "\n",
    "pos = -1\n",
    "while (2 in t[pos + 1:]):\n",
    "    pos = t.index(2, pos + 1)\n",
    "    print(pos)\n",
    "    pos += 1"
   ]
  },
  {
   "cell_type": "markdown",
   "metadata": {},
   "source": [
    "## 딕셔너리"
   ]
  },
  {
   "cell_type": "code",
   "execution_count": 68,
   "metadata": {},
   "outputs": [
    {
     "name": "stdout",
     "output_type": "stream",
     "text": [
      "<class 'dict'>\n",
      "{}\n"
     ]
    }
   ],
   "source": [
    "# 빈 딕셔너리 생성\n",
    "d = {}\n",
    "d = dict()\n",
    "\n",
    "print(type(d))\n",
    "print(d)"
   ]
  },
  {
   "cell_type": "code",
   "execution_count": 71,
   "metadata": {},
   "outputs": [
    {
     "name": "stdout",
     "output_type": "stream",
     "text": [
      "{'name': '김경민', 'dept': '컴퓨터소프트웨어과', 'year': 2, 'grade': 4.0}\n"
     ]
    }
   ],
   "source": [
    "# 초기 데이터 구성\n",
    "student = {\n",
    "    \"name\" : \"김경민\",\n",
    "    \"dept\" : \"컴퓨터소프트웨어과\",\n",
    "    \"year\" : 2,\n",
    "    \"grade\" : 4.0\n",
    "}\n",
    "\n",
    "print(student)"
   ]
  },
  {
   "cell_type": "code",
   "execution_count": 72,
   "metadata": {},
   "outputs": [
    {
     "name": "stdout",
     "output_type": "stream",
     "text": [
      "{'19831001': {'name': '김경민', 'dept': '컴퓨터소프트웨어과', 'year': 2, 'grade': 4.0}, '20831002': {'name': '정보통', 'dept': '정보통신과', 'year': 1, 'grade': 3.0}}\n"
     ]
    }
   ],
   "source": [
    "student = {\n",
    "    \"19831001\" : {\n",
    "        \"name\" : \"김경민\",\n",
    "        \"dept\" : \"컴퓨터소프트웨어과\",\n",
    "        \"year\" : 2,\n",
    "        \"grade\" : 4.0\n",
    "    }, \n",
    "    \"20831002\" : {\n",
    "        \"name\" : \"정보통\",\n",
    "        \"dept\" : \"정보통신과\",\n",
    "        \"year\" : 1,\n",
    "        \"grade\" : 3.0\n",
    "    }\n",
    "}\n",
    "print(student)"
   ]
  },
  {
   "cell_type": "code",
   "execution_count": 73,
   "metadata": {},
   "outputs": [
    {
     "name": "stdout",
     "output_type": "stream",
     "text": [
      "{'19831001': {'name': '김경민', 'dept': '컴퓨터소프트웨어과', 'year': 2, 'grade': 4.0}, '20831002': {'name': '정보통', 'dept': '정보통신과', 'year': 1, 'grade': 3.0}}\n"
     ]
    }
   ],
   "source": [
    "student1 = {\n",
    "        \"name\" : \"김경민\",\n",
    "        \"dept\" : \"컴퓨터소프트웨어과\",\n",
    "        \"year\" : 2,\n",
    "        \"grade\" : 4.0\n",
    "}\n",
    "student2 = {\n",
    "        \"name\" : \"정보통\",\n",
    "        \"dept\" : \"정보통신과\",\n",
    "        \"year\" : 1,\n",
    "        \"grade\" : 3.0\n",
    "}\n",
    "students = {\n",
    "    \"19831001\" : student1,\n",
    "    \"20831002\" : student2\n",
    "}\n",
    "print(student)"
   ]
  },
  {
   "cell_type": "code",
   "execution_count": 76,
   "metadata": {},
   "outputs": [
    {
     "name": "stdout",
     "output_type": "stream",
     "text": [
      "컴퓨터소프트웨어과\n",
      "컴퓨터소프트웨어과\n"
     ]
    }
   ],
   "source": [
    "# 데이터 항목 접근\n",
    "student = {\n",
    "        \"name\" : \"김경민\",\n",
    "        \"dept\" : \"컴퓨터소프트웨어과\",\n",
    "        \"year\" : 2,\n",
    "        \"grade\" : 4.0\n",
    "}\n",
    "\n",
    "# 인덱스에 키를 넣어서 검색\n",
    "dept = student[\"dept\"] # 인덱스 값으로 쓸 수 있는 것은 위치값, 이름 가능\n",
    "print(dept)\n",
    "\n",
    "# 메서드를 사용해 검색\n",
    "dept = student.get(\"dept\")\n",
    "print(dept)"
   ]
  },
  {
   "cell_type": "code",
   "execution_count": 77,
   "metadata": {},
   "outputs": [
    {
     "name": "stdout",
     "output_type": "stream",
     "text": [
      "{'name': '김경민', 'dept': '컴퓨터소프트웨어과', 'year': 3, 'grade': 4.0}\n"
     ]
    }
   ],
   "source": [
    "# 데이터 항목 값 변경\n",
    "student = {\n",
    "        \"name\" : \"김경민\",\n",
    "        \"dept\" : \"컴퓨터소프트웨어과\",\n",
    "        \"year\" : 2,\n",
    "        \"grade\" : 4.0\n",
    "}\n",
    "\n",
    "student[\"year\"] = 3\n",
    "print(student)"
   ]
  },
  {
   "cell_type": "code",
   "execution_count": 82,
   "metadata": {},
   "outputs": [
    {
     "name": "stdout",
     "output_type": "stream",
     "text": [
      "name\n",
      "dept\n",
      "year\n",
      "grade\n",
      "김경민\n",
      "컴퓨터소프트웨어과\n",
      "2\n",
      "4.0\n",
      "dict_values(['김경민', '컴퓨터소프트웨어과', 2, 4.0])\n",
      "<class 'dict_values'>\n",
      "김경민\n",
      "컴퓨터소프트웨어과\n",
      "2\n",
      "4.0\n"
     ]
    }
   ],
   "source": [
    "# 딕셔너리에 대한 반복문 활용\n",
    "student = {\n",
    "        \"name\" : \"김경민\",\n",
    "        \"dept\" : \"컴퓨터소프트웨어과\",\n",
    "        \"year\" : 2,\n",
    "        \"grade\" : 4.0\n",
    "}\n",
    "\n",
    "# 모든 키 추출\n",
    "for key in student:\n",
    "    print(key)\n",
    "\n",
    "# 모든 값 추출\n",
    "for key in student:\n",
    "    print(student[key])\n",
    "\n",
    "# print(student.values())\n",
    "# print(type(student.values()))\n",
    "for value in student.values() :\n",
    "    print(value)"
   ]
  },
  {
   "cell_type": "code",
   "execution_count": 86,
   "metadata": {},
   "outputs": [
    {
     "name": "stdout",
     "output_type": "stream",
     "text": [
      "dict_items([('name', '김경민'), ('dept', '컴퓨터소프트웨어과'), ('year', 2), ('grade', 4.0)])\n",
      "<class 'dict_items'>\n",
      "name:김경민\n",
      "dept:컴퓨터소프트웨어과\n",
      "year:2\n",
      "grade:4.0\n"
     ]
    }
   ],
   "source": [
    "# 모든 키와 값 동시에 추출\n",
    "# 첫번째는 키, 두번째는 값\n",
    "print(student.items())\n",
    "print(type(student.items()))\n",
    "for key, value in student.items():\n",
    "    print(\"{}:{}\".format(key,value))"
   ]
  },
  {
   "cell_type": "code",
   "execution_count": 87,
   "metadata": {},
   "outputs": [
    {
     "name": "stdout",
     "output_type": "stream",
     "text": [
      "학과 키가 있습니다\n"
     ]
    }
   ],
   "source": [
    "# 키 존재여부 검사\n",
    "if \"dept\" in student:\n",
    "    print(\"학과 키가 있습니다\")"
   ]
  },
  {
   "cell_type": "code",
   "execution_count": 89,
   "metadata": {},
   "outputs": [
    {
     "name": "stdout",
     "output_type": "stream",
     "text": [
      "4\n",
      "2\n",
      "4\n"
     ]
    }
   ],
   "source": [
    "# 딕셔너리 길이\n",
    "print(len(student))\n",
    "print(len(students))\n",
    "\n",
    "print(len(students[\"19831001\"]))"
   ]
  },
  {
   "cell_type": "code",
   "execution_count": 90,
   "metadata": {},
   "outputs": [
    {
     "name": "stdout",
     "output_type": "stream",
     "text": [
      "{'name': '김경민', 'dept': '컴퓨터소프트웨어과', 'year': 2, 'grade': 4.0, 'sno': '19831099'}\n"
     ]
    }
   ],
   "source": [
    "# 데이터 항목 추가\n",
    "student = {\n",
    "        \"name\" : \"김경민\",\n",
    "        \"dept\" : \"컴퓨터소프트웨어과\",\n",
    "        \"year\" : 2,\n",
    "        \"grade\" : 4.0\n",
    "}\n",
    "\n",
    "student[\"sno\"] = \"19831099\"\n",
    "print(student)"
   ]
  },
  {
   "cell_type": "code",
   "execution_count": 92,
   "metadata": {},
   "outputs": [
    {
     "name": "stdout",
     "output_type": "stream",
     "text": [
      "{'name': '홍경민', 'dept': '컴퓨터소프트웨어과', 'year': 2, 'grade': 4.0}\n",
      "제거된 값은 19831099\n"
     ]
    }
   ],
   "source": [
    "student = {\n",
    "        \"name\" : \"김경민\",\n",
    "        \"dept\" : \"컴퓨터소프트웨어과\",\n",
    "        \"year\" : 2,\n",
    "        \"grade\" : 4.0,\n",
    "        \"name\" : \"홍경민\" # key가 중복 지정되면 가장 마지막 지정된 값이 그 key의 값, 중복 없음\n",
    "}\n",
    "student[\"sno\"] = \"19831099\"\n",
    "\n",
    "# 특정 키를 가지는 데이터항목 삭제\n",
    "# pop()은 키를 제거하면서 그 값을 리턴\n",
    "value = student.pop(\"sno\")\n",
    "print(student)\n",
    "print(f\"제거된 값은 {value}\")\n"
   ]
  },
  {
   "cell_type": "code",
   "execution_count": 93,
   "metadata": {},
   "outputs": [
    {
     "name": "stdout",
     "output_type": "stream",
     "text": [
      "{'name': '홍경민', 'dept': '컴퓨터소프트웨어과', 'year': 2}\n"
     ]
    }
   ],
   "source": [
    "# 마지막 데이터 항목 삭제\n",
    "student.popitem()\n",
    "print(student)"
   ]
  },
  {
   "cell_type": "code",
   "execution_count": null,
   "metadata": {},
   "outputs": [],
   "source": [
    "# 딕셔너리 완전 삭제, 변수 자체도 사라짐\n",
    "student = {\n",
    "        \"name\" : \"김경민\",\n",
    "        \"dept\" : \"컴퓨터소프트웨어과\",\n",
    "        \"year\" : 2,\n",
    "        \"grade\" : 4.0\n",
    "}\n",
    "del student"
   ]
  },
  {
   "cell_type": "code",
   "execution_count": 94,
   "metadata": {},
   "outputs": [
    {
     "name": "stdout",
     "output_type": "stream",
     "text": [
      "{}\n"
     ]
    }
   ],
   "source": [
    "# 딕셔너리 데이터 항목만 삭제\n",
    "student = {\n",
    "        \"name\" : \"김경민\",\n",
    "        \"dept\" : \"컴퓨터소프트웨어과\",\n",
    "        \"year\" : 2,\n",
    "        \"grade\" : 4.0\n",
    "}\n",
    "student.clear()\n",
    "print(student)"
   ]
  },
  {
   "cell_type": "markdown",
   "metadata": {},
   "source": [
    "> 얕은 복사"
   ]
  },
  {
   "cell_type": "code",
   "execution_count": 95,
   "metadata": {},
   "outputs": [
    {
     "name": "stdout",
     "output_type": "stream",
     "text": [
      "{'name': '김경민', 'dept': '컴퓨터소프트웨어과', 'year': 2, 'grade': 4.0}\n",
      "{'name': '김경민', 'dept': '컴퓨터소프트웨어과', 'year': 2, 'grade': 4.0}\n",
      "{'name': '김경민', 'dept': '컴퓨터소프트웨어과', 'year': 2, 'grade': 4.5}\n",
      "{'name': '김경민', 'dept': '컴퓨터소프트웨어과', 'year': 2, 'grade': 4.5}\n"
     ]
    }
   ],
   "source": [
    "s1 = {\n",
    "        \"name\" : \"김경민\",\n",
    "        \"dept\" : \"컴퓨터소프트웨어과\",\n",
    "        \"year\" : 2,\n",
    "        \"grade\" : 4.0\n",
    "}\n",
    "s2 = s1\n",
    "print(s1)\n",
    "print(s2)\n",
    "\n",
    "s2[\"grade\"] = 4.5\n",
    "print(s1)\n",
    "print(s2)\n"
   ]
  },
  {
   "cell_type": "markdown",
   "metadata": {},
   "source": [
    "> 깊은 복사"
   ]
  },
  {
   "cell_type": "code",
   "execution_count": 99,
   "metadata": {},
   "outputs": [
    {
     "name": "stdout",
     "output_type": "stream",
     "text": [
      "{'name': '김경민', 'dept': '컴퓨터소프트웨어과', 'year': 2, 'grade': 4.0}\n",
      "{'name': '김경민', 'dept': '컴퓨터소프트웨어과', 'year': 2, 'grade': 4.0}\n",
      "{'name': '김경민', 'dept': '컴퓨터소프트웨어과', 'year': 2, 'grade': 4.0}\n",
      "{'name': '김경민', 'dept': '컴퓨터소프트웨어과', 'year': 2, 'grade': 4.5}\n"
     ]
    }
   ],
   "source": [
    "s1 = {\n",
    "        \"name\" : \"김경민\",\n",
    "        \"dept\" : \"컴퓨터소프트웨어과\",\n",
    "        \"year\" : 2,\n",
    "        \"grade\" : 4.0\n",
    "}\n",
    "s2 = dict(s1)\n",
    "print(s1)\n",
    "print(s2)\n",
    "s2[\"grade\"] = 4.5\n",
    "print(s1)\n",
    "print(s2)"
   ]
  },
  {
   "cell_type": "markdown",
   "metadata": {},
   "source": [
    "## 셋"
   ]
  },
  {
   "cell_type": "code",
   "execution_count": 100,
   "metadata": {},
   "outputs": [
    {
     "name": "stdout",
     "output_type": "stream",
     "text": [
      "<class 'set'>\n",
      "set()\n"
     ]
    }
   ],
   "source": [
    "# 빈 셋 만들기\n",
    "s = set()\n",
    "print(type(s))\n",
    "print(s)"
   ]
  },
  {
   "cell_type": "code",
   "execution_count": 101,
   "metadata": {},
   "outputs": [
    {
     "name": "stdout",
     "output_type": "stream",
     "text": [
      "<class 'set'>\n",
      "{'핫도그', '햄버거', '타코', '피자', '샌드위치'}\n"
     ]
    }
   ],
   "source": [
    "# 초기값 가지는 셋 만들기 -> 키 값이 없기 때문에 딕셔너리랑 헷갈리지 않아도 됨\n",
    "s = {\"핫도그\", \"햄버거\", \"샌드위치\", \"피자\" , \"타코\"}\n",
    "print(type(s))\n",
    "print(s)"
   ]
  },
  {
   "cell_type": "code",
   "execution_count": 102,
   "metadata": {},
   "outputs": [
    {
     "name": "stdout",
     "output_type": "stream",
     "text": [
      "{'샌드위치', '핫도그', '햄버거'}\n"
     ]
    }
   ],
   "source": [
    "# 중복된 초기값 지정한 경우 -> 최근에 갱신한거 하나만 유지\n",
    "s = {\"핫도그\", \"햄버거\", \"샌드위치\", \"햄버거\"}\n",
    "print(s)"
   ]
  },
  {
   "cell_type": "code",
   "execution_count": null,
   "metadata": {},
   "outputs": [],
   "source": [
    "# 데이터 항목 접근 : 인덱스 사용불가, 접근 순서 없음 -> 딕셔너리도 불가능해서 키 값으로 접근함\n",
    "s = {\"핫도그\", \"햄버거\", \"샌드위치\", \"피자\" , \"타코\"}\n",
    "# print(s[0])\n",
    "for e in s:\n",
    "    print(e)"
   ]
  },
  {
   "cell_type": "code",
   "execution_count": 103,
   "metadata": {},
   "outputs": [
    {
     "name": "stdout",
     "output_type": "stream",
     "text": [
      "True\n",
      "False\n"
     ]
    }
   ],
   "source": [
    "# 데이터 항목 존재 검사\n",
    "s = {\"핫도그\", \"햄버거\", \"샌드위치\", \"피자\" , \"타코\"}\n",
    "print(\"햄버거\" in s)\n",
    "print(\"서브웨이\" in s)"
   ]
  },
  {
   "cell_type": "code",
   "execution_count": 104,
   "metadata": {},
   "outputs": [
    {
     "name": "stdout",
     "output_type": "stream",
     "text": [
      "{'핫도그', '피자', '햄버거', '타코', '샌드위치'}\n"
     ]
    }
   ],
   "source": [
    "# 데이터 항목 추가: 추가되는 위치 정해지지 않음. add()는 단일값 추가\n",
    "s = {\"핫도그\", \"햄버거\", \"샌드위치\", \"피자\"}\n",
    "s.add(\"타코\")\n",
    "print(s)"
   ]
  },
  {
   "cell_type": "code",
   "execution_count": 105,
   "metadata": {},
   "outputs": [
    {
     "name": "stdout",
     "output_type": "stream",
     "text": [
      "{'핫도그', '햄버거', '타코', '피자', '샌드위치'}\n"
     ]
    }
   ],
   "source": [
    "# 여러개의 데이터 항목 추가: 리스트 추가 update()로 여러값 리스트로 추가\n",
    "s = {'핫도그', '피자'}\n",
    "s.update(['타코', '햄버거', '샌드위치'])\n",
    "print(s)"
   ]
  },
  {
   "cell_type": "code",
   "execution_count": null,
   "metadata": {},
   "outputs": [],
   "source": [
    "# 여러개의 데이터 항목 추가: 리스트에 중복이 있는 경우 하나만 추가\n",
    "s = {'핫도그', '피자'}\n",
    "s.update(['타코', '햄버거', '샌드위치'])\n",
    "print(s)"
   ]
  },
  {
   "cell_type": "code",
   "execution_count": 106,
   "metadata": {},
   "outputs": [
    {
     "data": {
      "text/plain": [
       "5"
      ]
     },
     "execution_count": 106,
     "metadata": {},
     "output_type": "execute_result"
    }
   ],
   "source": [
    "# 셋의 자료 개수\n",
    "len(s)"
   ]
  },
  {
   "cell_type": "code",
   "execution_count": 107,
   "metadata": {},
   "outputs": [
    {
     "name": "stdout",
     "output_type": "stream",
     "text": [
      "{'햄버거', '타코', '피자', '샌드위치'}\n"
     ]
    }
   ],
   "source": [
    "# 데이터 항목 삭제: 삭제할 대상이 없으면 예외 발생\n",
    "s = {\"핫도그\", \"햄버거\", \"샌드위치\", \"피자\" , \"타코\"}\n",
    "s.remove(\"핫도그\")\n",
    "print(s)"
   ]
  },
  {
   "cell_type": "code",
   "execution_count": 108,
   "metadata": {},
   "outputs": [
    {
     "name": "stdout",
     "output_type": "stream",
     "text": [
      "{'핫도그', '햄버거', '피자', '샌드위치'}\n"
     ]
    }
   ],
   "source": [
    "# 데이터항목 삭제: 삭제할 대상이 없어도 예외 발생시키지 않음\n",
    "s = {\"핫도그\", \"햄버거\", \"샌드위치\", \"피자\" , \"타코\"}\n",
    "s.discard(\"타코\")\n",
    "print(s)"
   ]
  },
  {
   "cell_type": "code",
   "execution_count": 109,
   "metadata": {},
   "outputs": [
    {
     "name": "stdout",
     "output_type": "stream",
     "text": [
      "{'햄버거', '타코', '피자', '샌드위치'}\n"
     ]
    }
   ],
   "source": [
    "# 데이터 항목 하나 삭제: 어느 것이 삭제될 지는 알 수 없음\n",
    "s = {\"핫도그\", \"햄버거\", \"샌드위치\", \"피자\" , \"타코\"}\n",
    "s.pop()\n",
    "print(s)"
   ]
  },
  {
   "cell_type": "code",
   "execution_count": 110,
   "metadata": {},
   "outputs": [
    {
     "name": "stdout",
     "output_type": "stream",
     "text": [
      "set()\n"
     ]
    }
   ],
   "source": [
    "# 셋 비우기 \n",
    "s = {\"핫도그\", \"햄버거\", \"샌드위치\", \"피자\" , \"타코\"}\n",
    "s.clear()\n",
    "print(s)"
   ]
  },
  {
   "cell_type": "code",
   "execution_count": null,
   "metadata": {},
   "outputs": [],
   "source": [
    "# 두 셋 합치기 1\n",
    "s1 = { }\n",
    "s2 = { }\n",
    "s = s1.union(s2)"
   ]
  },
  {
   "cell_type": "code",
   "execution_count": null,
   "metadata": {},
   "outputs": [],
   "source": [
    "# 두 셋 합치기 2\n",
    "s1 = { }\n",
    "s2 = { }\n",
    "s1.update(s2)"
   ]
  }
 ],
 "metadata": {
  "kernelspec": {
   "display_name": "Python 3.9.13 64-bit",
   "language": "python",
   "name": "python3"
  },
  "language_info": {
   "codemirror_mode": {
    "name": "ipython",
    "version": 3
   },
   "file_extension": ".py",
   "mimetype": "text/x-python",
   "name": "python",
   "nbconvert_exporter": "python",
   "pygments_lexer": "ipython3",
   "version": "3.9.13"
  },
  "orig_nbformat": 4,
  "vscode": {
   "interpreter": {
    "hash": "aee8b7b246df8f9039afb4144a1f6fd8d2ca17a180786b69acc140d282b71a49"
   }
  }
 },
 "nbformat": 4,
 "nbformat_minor": 2
}
