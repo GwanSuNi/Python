{
 "cells": [
  {
   "cell_type": "markdown",
   "metadata": {},
   "source": [
    "### 리스트"
   ]
  },
  {
   "cell_type": "code",
   "execution_count": 2,
   "metadata": {},
   "outputs": [
    {
     "name": "stdout",
     "output_type": "stream",
     "text": [
      "[]\n",
      "<class 'list'>\n",
      "[]\n",
      "<class 'list'>\n"
     ]
    }
   ],
   "source": [
    "# 리스트 생성 1 : 빈 리스트\n",
    "\n",
    "# 함수로 만들기\n",
    "l = list()\n",
    "print(l)\n",
    "print(type(l))\n",
    "\n",
    "# 기호로 만들기\n",
    "l = []\n",
    "print(l)\n",
    "print(type(l))"
   ]
  },
  {
   "cell_type": "code",
   "execution_count": 6,
   "metadata": {},
   "outputs": [
    {
     "name": "stdout",
     "output_type": "stream",
     "text": [
      "['핫도그', '햄버거', '샌드위치', '피자', '타코']\n",
      "<class 'list'>\n",
      "['핫도그', '햄버거', '샌드위치', '피자', '타코']\n",
      "<class 'list'>\n",
      "['핫', '도', '그']\n",
      "<class 'list'>\n"
     ]
    }
   ],
   "source": [
    "# 리스트 생성 2 : 값이 있는 리스트\n",
    "# 리스트 값을 직접 지정\n",
    "l = ['핫도그', '햄버거', '샌드위치', '피자', '타코']\n",
    "print(l)\n",
    "print(type(l))\n",
    "\n",
    "# 리스트 값을 함수로 지정\n",
    "l = list(['핫도그', '햄버거', '샌드위치', '피자', '타코'])\n",
    "print(l)\n",
    "print(type(l))\n",
    "\n",
    "# \n",
    "l = list('핫도그')\n",
    "print(l)\n",
    "print(type(l))"
   ]
  },
  {
   "cell_type": "code",
   "execution_count": 1,
   "metadata": {},
   "outputs": [
    {
     "name": "stdout",
     "output_type": "stream",
     "text": [
      "햄버거\n",
      "타코\n",
      "햄버거\n"
     ]
    }
   ],
   "source": [
    "# 리스트 항목 접근\n",
    "# 리스트는 순서 있고 인덱싱 가능\n",
    "l = ['핫도그', '햄버거', '샌드위치', '피자', '타코']\n",
    "print(l[1])\n",
    "print(l[-1])\n",
    "\n",
    "# 햄버거를 음수 인덱스로 접근하면? \n",
    "l = ['핫도그', '햄버거', '샌드위치', '피자', '타코']\n",
    "print(l[-4])"
   ]
  },
  {
   "cell_type": "markdown",
   "metadata": {},
   "source": [
    "> 슬라이싱"
   ]
  },
  {
   "cell_type": "code",
   "execution_count": 6,
   "metadata": {},
   "outputs": [
    {
     "name": "stdout",
     "output_type": "stream",
     "text": [
      "['샌드위치', '피자', '타코']\n",
      "['핫도그', '햄버거', '샌드위치', '피자']\n",
      "['피자', '타코']\n",
      "['햄버거', '샌드위치', '피자']\n"
     ]
    }
   ],
   "source": [
    "# 범위 인덱스 : 슬라이싱(slicing)\n",
    "# [시작 : 끝 : 스텝] ~ 시작 인덱스부터 끝-1 인덱스까지 스텝만큼 움직이면서 슬라이싱\n",
    "\n",
    "l = ['핫도그', '햄버거', '샌드위치', '피자', '타코']\n",
    "print(l[2:5])\n",
    "print(l[:4])\n",
    "print(l[3:])\n",
    "print(l[-4:-1])"
   ]
  },
  {
   "cell_type": "code",
   "execution_count": 5,
   "metadata": {},
   "outputs": [
    {
     "name": "stdout",
     "output_type": "stream",
     "text": [
      "['핫도그', '샌드위치', '타코']\n"
     ]
    }
   ],
   "source": [
    "# 문제 : 인덱스 0을 포함해 짝수 위치의 데이터 항목만 출력\n",
    "print(l[::2])"
   ]
  },
  {
   "cell_type": "markdown",
   "metadata": {},
   "source": [
    "> 값 변경"
   ]
  },
  {
   "cell_type": "code",
   "execution_count": 7,
   "metadata": {},
   "outputs": [
    {
     "name": "stdout",
     "output_type": "stream",
     "text": [
      "['호떡', '햄버거', '샌드위치', '피자', '타코']\n"
     ]
    }
   ],
   "source": [
    "# 데이터 항목 값 변경 \n",
    "l = ['핫도그', '햄버거', '샌드위치', '피자', '타코']\n",
    "l[0] = '호떡'\n",
    "print(l)"
   ]
  },
  {
   "cell_type": "markdown",
   "metadata": {},
   "source": [
    "> 값 접근"
   ]
  },
  {
   "cell_type": "code",
   "execution_count": 13,
   "metadata": {},
   "outputs": [
    {
     "name": "stdout",
     "output_type": "stream",
     "text": [
      "호떡은(는) <class 'str'> 타입\n",
      "햄버거은(는) <class 'str'> 타입\n",
      "샌드위치은(는) <class 'str'> 타입\n",
      "피자은(는) <class 'str'> 타입\n",
      "타코은(는) <class 'str'> 타입\n"
     ]
    }
   ],
   "source": [
    "# 반복문을 사용한 데이터 항목 접근\n",
    "for food in l:\n",
    "    print(f'{food}은(는) {type(food)} 타입')\n"
   ]
  },
  {
   "cell_type": "code",
   "execution_count": 22,
   "metadata": {},
   "outputs": [
    {
     "name": "stdout",
     "output_type": "stream",
     "text": [
      "1 은(는) <class 'int'> 타입\n",
      "3.14 은(는) <class 'float'> 타입\n",
      "홍길동 은(는) <class 'str'> 타입\n",
      "True 은(는) <class 'bool'> 타입\n",
      "None 은(는) <class 'NoneType'> 타입\n",
      "(3+2j) 은(는) <class 'complex'> 타입\n",
      "['마라탕', '꿔바로우'] 은(는) <class 'list'> 타입\n"
     ]
    }
   ],
   "source": [
    "# 리스트의 데이터 항목은 여러가지 데이터 타입이 혼용될 수 있음\n",
    "mixed_list = [ 1, 3.14, '홍길동', True, None, 3 + 2j, ['마라탕', '꿔바로우'] ]\n",
    "for item in mixed_list:\n",
    "    print(f'{item} 은(는) {type(item)} 타입')"
   ]
  },
  {
   "cell_type": "markdown",
   "metadata": {},
   "source": [
    "> 값 검사"
   ]
  },
  {
   "cell_type": "code",
   "execution_count": 23,
   "metadata": {},
   "outputs": [
    {
     "name": "stdout",
     "output_type": "stream",
     "text": [
      "음식 리스트에 있음\n"
     ]
    }
   ],
   "source": [
    "# 데이터 항목 존재 검사\n",
    "l = ['핫도그', '햄버거', '샌드위치', '피자', '타코']\n",
    "if '햄버거' in l:\n",
    "    print(\"음식 리스트에 있음\")"
   ]
  },
  {
   "cell_type": "code",
   "execution_count": 28,
   "metadata": {},
   "outputs": [
    {
     "name": "stdout",
     "output_type": "stream",
     "text": [
      "음식 리스트에 있음\n"
     ]
    }
   ],
   "source": [
    "# 문제 : 리스트에 서브리스트 존재 여부 검사 가능한가?\n",
    "l = ['핫도그', '햄버거', '샌드위치', '피자', '타코']\n",
    "if ['핫도그', '햄버거'] in l:\n",
    "    print(\"음식 리스트에 있음\")\n",
    "\n",
    "# 검사할 수 있는 방법은?\n",
    "if '핫도그' and '햄버거' in l:\n",
    "    print(\"음식 리스트에 있음\")"
   ]
  },
  {
   "cell_type": "markdown",
   "metadata": {},
   "source": [
    "> 리스트 길이"
   ]
  },
  {
   "cell_type": "code",
   "execution_count": 29,
   "metadata": {},
   "outputs": [
    {
     "name": "stdout",
     "output_type": "stream",
     "text": [
      "5\n"
     ]
    }
   ],
   "source": [
    "# 데이터 항목 개수 (리스트 길이)\n",
    "l = ['핫도그', '햄버거', '샌드위치', '피자', '타코']\n",
    "print(len(l))"
   ]
  },
  {
   "cell_type": "markdown",
   "metadata": {},
   "source": [
    "> 데이터 항목 추가"
   ]
  },
  {
   "cell_type": "code",
   "execution_count": 30,
   "metadata": {},
   "outputs": [
    {
     "name": "stdout",
     "output_type": "stream",
     "text": [
      "['핫도그', '햄버거', '샌드위치', '피자']\n"
     ]
    }
   ],
   "source": [
    "# 데이터 항목 추가: 디폴드로 맨 뒤에 append()\n",
    "l = ['핫도그', '햄버거', '샌드위치']\n",
    "l.append(\"피자\")\n",
    "print(l)"
   ]
  },
  {
   "cell_type": "code",
   "execution_count": 33,
   "metadata": {},
   "outputs": [
    {
     "name": "stdout",
     "output_type": "stream",
     "text": [
      "4706999104\n",
      "['핫도그', '피자', '햄버거', '샌드위치']\n",
      "4706999104\n"
     ]
    }
   ],
   "source": [
    "# 데이터 항목 추가: 특정 인덱스에 insert()\n",
    "l = ['핫도그', '햄버거', '샌드위치']\n",
    "l.insert(1, \"피자\")\n",
    "print(l)"
   ]
  },
  {
   "cell_type": "code",
   "execution_count": 34,
   "metadata": {},
   "outputs": [
    {
     "name": "stdout",
     "output_type": "stream",
     "text": [
      "4421933440\n",
      "['핫도그', '피자', '햄버거', '샌드위치']\n",
      "4421933440\n"
     ]
    }
   ],
   "source": [
    "# 리스트에 데이터 항목이 추가되어도 주소는 바뀌지 않음\n",
    "l = ['핫도그', '햄버거', '샌드위치']\n",
    "print(id(l))\n",
    "l.insert(1, \"피자\")\n",
    "print(l)\n",
    "print(id(l))"
   ]
  },
  {
   "cell_type": "markdown",
   "metadata": {},
   "source": [
    "> 데이터 항목 삭제"
   ]
  },
  {
   "cell_type": "code",
   "execution_count": 35,
   "metadata": {},
   "outputs": [
    {
     "name": "stdout",
     "output_type": "stream",
     "text": [
      "['햄버거', '샌드위치']\n"
     ]
    }
   ],
   "source": [
    "# 데이터 항목 삭제: 특정 항목 지정, 반환값 없음\n",
    "l = ['핫도그', '햄버거', '샌드위치']\n",
    "l.remove(\"핫도그\")\n",
    "print(l)\n",
    "\n",
    "# 이건 안됨 아래 블럭을 써야함\n",
    "# l.remove(0)"
   ]
  },
  {
   "cell_type": "code",
   "execution_count": 37,
   "metadata": {},
   "outputs": [
    {
     "name": "stdout",
     "output_type": "stream",
     "text": [
      "pop(1)의 결과 햄버거,\n",
      "pop(1) 후 리스트 l의 상태['핫도그', '샌드위치', '피자', '타코']\n",
      "pop()의 결과 타코,\n",
      "pop() 후 리스트 l의 상태['핫도그', '샌드위치', '피자']\n"
     ]
    }
   ],
   "source": [
    "# 데이터 항목 삭제: 특정 위치 항목(인덱스 지정 O) 또는\n",
    "# 맨 마지막 항목(인덱스 지정 X), 반환값 있음\n",
    "l = ['핫도그', '햄버거', '샌드위치', '피자', '타코']\n",
    "\n",
    "# 인덱스 지정: 지정한 인덱스의 데이터 항목 삭제\n",
    "item = l.pop(1)\n",
    "print(f'pop(1)의 결과 {item},\\npop(1) 후 리스트 l의 상태{l}')\n",
    "\n",
    "# 인덱스 지정 안함: 마지막 데이터 항목 삭제\n",
    "item = l.pop()\n",
    "print(f'pop()의 결과 {item},\\npop() 후 리스트 l의 상태{l}')"
   ]
  },
  {
   "cell_type": "markdown",
   "metadata": {},
   "source": [
    "> del"
   ]
  },
  {
   "cell_type": "code",
   "execution_count": 38,
   "metadata": {},
   "outputs": [
    {
     "name": "stdout",
     "output_type": "stream",
     "text": [
      "['햄버거', '샌드위치', '피자', '타코']\n"
     ]
    }
   ],
   "source": [
    "# 데이터 항목 삭제: 특정 위치 항목(인덱스 지정 O) 또는 리스트 자체(인덱스 지정 x)\n",
    "l = ['핫도그', '햄버거', '샌드위치', '피자', '타코']\n",
    "del l[0]\n",
    "print(l)"
   ]
  },
  {
   "cell_type": "code",
   "execution_count": 39,
   "metadata": {},
   "outputs": [
    {
     "ename": "NameError",
     "evalue": "name 'l' is not defined",
     "output_type": "error",
     "traceback": [
      "\u001b[0;31m---------------------------------------------------------------------------\u001b[0m",
      "\u001b[0;31mNameError\u001b[0m                                 Traceback (most recent call last)",
      "Cell \u001b[0;32mIn [39], line 2\u001b[0m\n\u001b[1;32m      1\u001b[0m \u001b[38;5;28;01mdel\u001b[39;00m l \u001b[38;5;66;03m# 주의 : 삭제 후 변수 l 없어짐, 변수 l 참조하면 에러 발생\u001b[39;00m\n\u001b[0;32m----> 2\u001b[0m \u001b[38;5;28mprint\u001b[39m(\u001b[43ml\u001b[49m)\n",
      "\u001b[0;31mNameError\u001b[0m: name 'l' is not defined"
     ]
    }
   ],
   "source": [
    "del l # 주의 : 삭제 후 변수 l 없어짐, 변수 l 참조하면 에러 발생\n",
    "print(l)"
   ]
  },
  {
   "cell_type": "code",
   "execution_count": 40,
   "metadata": {},
   "outputs": [
    {
     "name": "stdout",
     "output_type": "stream",
     "text": [
      "10\n"
     ]
    }
   ],
   "source": [
    "# 문제: del은 리스트에 대해서만 작동하는가?\n",
    "# 모든 변수에 대해 동작\n",
    "x = 10\n",
    "print(x)\n",
    "del x\n",
    "#print(x)\n"
   ]
  },
  {
   "cell_type": "markdown",
   "metadata": {},
   "source": [
    "> clear"
   ]
  },
  {
   "cell_type": "code",
   "execution_count": 43,
   "metadata": {},
   "outputs": [
    {
     "name": "stdout",
     "output_type": "stream",
     "text": [
      "[]\n"
     ]
    }
   ],
   "source": [
    "# 데이터 항목 삭제: 전체 지우고 변수는 유지\n",
    "l = ['핫도그', '햄버거', '샌드위치', '피자', '타코']\n",
    "l.clear()\n",
    "print(l)"
   ]
  },
  {
   "cell_type": "code",
   "execution_count": 44,
   "metadata": {},
   "outputs": [
    {
     "name": "stdout",
     "output_type": "stream",
     "text": [
      "<class 'list'>\n",
      "<class 'NoneType'>\n"
     ]
    }
   ],
   "source": [
    "# 문제 : 리스트가 []와 None의 차이점?\n",
    "# 빈 리스트는 있어도 None 리스트는 없다\n",
    "l = []\n",
    "print(type(l))\n",
    "\n",
    "l = None\n",
    "print(type(l))\n"
   ]
  },
  {
   "cell_type": "markdown",
   "metadata": {},
   "source": [
    "> 얕은 복사"
   ]
  },
  {
   "cell_type": "code",
   "execution_count": 45,
   "metadata": {},
   "outputs": [
    {
     "name": "stdout",
     "output_type": "stream",
     "text": [
      "l_cpy = l_org 실행 후 l_org의 값 ['핫도그', '햄버거', '샌드위치', '피자', '타코']\n",
      "l_cpy = l_org 실행 후 l_cpy의 값 ['핫도그', '햄버거', '샌드위치', '피자', '타코']\n",
      "l_cpy = l_org 실행 후 l_org의 주소 4730041344\n",
      "l_cpy = l_org 실행 후 l_cpy의 주소 4730041344\n"
     ]
    }
   ],
   "source": [
    "# 리스트 복사: 대입(얕은 복사, shallow copy)\n",
    "l_org = ['핫도그', '햄버거', '샌드위치', '피자', '타코']\n",
    "l_cpy = l_org\n",
    "print(f'l_cpy = l_org 실행 후 l_org의 값 {l_org}')\n",
    "print(f'l_cpy = l_org 실행 후 l_cpy의 값 {l_cpy}')\n",
    "\n",
    "print(f'l_cpy = l_org 실행 후 l_org의 주소 {id(l_org)}')\n",
    "print(f'l_cpy = l_org 실행 후 l_cpy의 주소 {id(l_cpy)}')"
   ]
  },
  {
   "cell_type": "code",
   "execution_count": 46,
   "metadata": {},
   "outputs": [
    {
     "name": "stdout",
     "output_type": "stream",
     "text": [
      "['호떡', '햄버거', '샌드위치', '피자', '타코']\n",
      "['호떡', '햄버거', '샌드위치', '피자', '타코']\n"
     ]
    }
   ],
   "source": [
    "# 해보기 : 위 코드에서 l_org의 '핫도그'를 '호떡'으로 바꾼다면?\n",
    "# 결론 : l_cpy = l_org 한 것은 복사한 게 아님\n",
    "l_org[0] = '호떡'\n",
    "print(l_org)\n",
    "print(l_cpy)"
   ]
  },
  {
   "cell_type": "code",
   "execution_count": 50,
   "metadata": {},
   "outputs": [
    {
     "name": "stdout",
     "output_type": "stream",
     "text": [
      "copy() 실행 후 l_org의 값 [['핫도그', '햄버거'], ['샌드위치', '피자', '타코']]\n",
      "copy() 실행 후 l_cpy의 값 [['핫도그', '햄버거'], ['샌드위치', '피자', '타코']]\n",
      "copy() 실행 후 l_org의 주소 4707103616\n",
      "copy() 실행 후 l_cpy의 주소 4706954368\n",
      "copy() 실행 후 l_org[0]의 주소 4706930880\n",
      "copy() 실행 후 l_cpy[0]의 주소 4706930880\n",
      "copy() 실행 후 l_org[1]의 주소 4707105408\n",
      "copy() 실행 후 l_cpy[1]의 주소 4707105408\n"
     ]
    }
   ],
   "source": [
    "l_org = [['핫도그', '햄버거'], ['샌드위치', '피자', '타코']]\n",
    "l_cpy = l_org.copy()\n",
    "\n",
    "print(f'copy() 실행 후 l_org의 값 {l_org}')\n",
    "print(f'copy() 실행 후 l_cpy의 값 {l_cpy}')\n",
    "\n",
    "print(f'copy() 실행 후 l_org의 주소 {id(l_org)}')\n",
    "print(f'copy() 실행 후 l_cpy의 주소 {id(l_cpy)}')\n",
    "\n",
    "print(f'copy() 실행 후 l_org[0]의 주소 {id(l_org[0])}')\n",
    "print(f'copy() 실행 후 l_cpy[0]의 주소 {id(l_cpy[0])}')\n",
    "print(f'copy() 실행 후 l_org[1]의 주소 {id(l_org[1])}')\n",
    "print(f'copy() 실행 후 l_cpy[1]의 주소 {id(l_cpy[1])}')"
   ]
  },
  {
   "cell_type": "markdown",
   "metadata": {},
   "source": [
    "> 깊은 복사"
   ]
  },
  {
   "cell_type": "code",
   "execution_count": 52,
   "metadata": {},
   "outputs": [
    {
     "name": "stdout",
     "output_type": "stream",
     "text": [
      "copy() 실행 후 l_org의 값 [['핫도그', '햄버거'], ['샌드위치', '피자', '타코']]\n",
      "copy() 실행 후 l_cpy의 값 [['핫도그', '햄버거'], ['샌드위치', '피자', '타코']]\n",
      "copy() 실행 후 l_org의 주소 4707204608\n",
      "copy() 실행 후 l_cpy의 주소 4706163072\n",
      "copy() 실행 후 l_org[0]의 주소 4707204864\n",
      "copy() 실행 후 l_cpy[0]의 주소 4707204864\n",
      "copy() 실행 후 l_org[1]의 주소 4730046144\n",
      "copy() 실행 후 l_cpy[1]의 주소 4730046144\n"
     ]
    }
   ],
   "source": [
    "# 리스트 복사: copy 클래스 사용 얕은 복사는 copy.copy() 사용\n",
    "\n",
    "import copy\n",
    "\n",
    "l_org = [['핫도그', '햄버거'], ['샌드위치', '피자', '타코']]\n",
    "l_cpy = copy.copy(l_org) # 얕은 복사\n",
    "print(f'copy() 실행 후 l_org의 값 {l_org}')\n",
    "print(f'copy() 실행 후 l_cpy의 값 {l_cpy}')\n",
    "\n",
    "print(f'copy() 실행 후 l_org의 주소 {id(l_org)}')\n",
    "print(f'copy() 실행 후 l_cpy의 주소 {id(l_cpy)}')\n",
    "\n",
    "print(f'copy() 실행 후 l_org[0]의 주소 {id(l_org[0])}')\n",
    "print(f'copy() 실행 후 l_cpy[0]의 주소 {id(l_cpy[0])}')\n",
    "print(f'copy() 실행 후 l_org[1]의 주소 {id(l_org[1])}')\n",
    "print(f'copy() 실행 후 l_cpy[1]의 주소 {id(l_cpy[1])}')"
   ]
  },
  {
   "cell_type": "code",
   "execution_count": 53,
   "metadata": {},
   "outputs": [
    {
     "name": "stdout",
     "output_type": "stream",
     "text": [
      "copy() 실행 후 l_org의 값 [['핫도그', '햄버거'], ['샌드위치', '피자', '타코']]\n",
      "copy() 실행 후 l_cpy의 값 [['핫도그', '햄버거'], ['샌드위치', '피자', '타코']]\n",
      "copy() 실행 후 l_org의 주소 4707105408\n",
      "copy() 실행 후 l_cpy의 주소 4706953856\n",
      "copy() 실행 후 l_org[0]의 주소 4706930880\n",
      "copy() 실행 후 l_cpy[0]의 주소 4706894080\n",
      "copy() 실행 후 l_org[1]의 주소 4706954368\n",
      "copy() 실행 후 l_cpy[1]의 주소 4730110848\n"
     ]
    }
   ],
   "source": [
    "# 리스트 복사: copy 클래스 사용 깊은 복사는 copy.deepcopy() 사용\n",
    "# 깊은 복사를 하기 위해 copy 클래스를 임포트 (얕은 복사는 그냥 .copy()로 하면 됨)\n",
    "import copy\n",
    "\n",
    "l_org = [['핫도그', '햄버거'], ['샌드위치', '피자', '타코']]\n",
    "l_cpy = copy.deepcopy(l_org) # 깊은 복사\n",
    "print(f'copy() 실행 후 l_org의 값 {l_org}')\n",
    "print(f'copy() 실행 후 l_cpy의 값 {l_cpy}')\n",
    "\n",
    "print(f'copy() 실행 후 l_org의 주소 {id(l_org)}')\n",
    "print(f'copy() 실행 후 l_cpy의 주소 {id(l_cpy)}')\n",
    "\n",
    "print(f'copy() 실행 후 l_org[0]의 주소 {id(l_org[0])}')\n",
    "print(f'copy() 실행 후 l_cpy[0]의 주소 {id(l_cpy[0])}')\n",
    "print(f'copy() 실행 후 l_org[1]의 주소 {id(l_org[1])}')\n",
    "print(f'copy() 실행 후 l_cpy[1]의 주소 {id(l_cpy[1])}')"
   ]
  },
  {
   "cell_type": "markdown",
   "metadata": {},
   "source": [
    "> 두 리스트 합치기(join)"
   ]
  },
  {
   "cell_type": "code",
   "execution_count": 55,
   "metadata": {},
   "outputs": [
    {
     "name": "stdout",
     "output_type": "stream",
     "text": [
      "['샌드위치', '피자', '핫도그', '햄버거']\n"
     ]
    }
   ],
   "source": [
    "# 두 리스트 합치기: + 연산자 사용\n",
    "l1 = ['핫도그', '햄버거']\n",
    "l2 = ['샌드위치', '피자']\n",
    "l = l2 + l1\n",
    "print(l)"
   ]
  },
  {
   "cell_type": "code",
   "execution_count": 56,
   "metadata": {},
   "outputs": [
    {
     "name": "stdout",
     "output_type": "stream",
     "text": [
      "['핫도그', '햄버거', '샌드위치', '피자']\n"
     ]
    }
   ],
   "source": [
    "# extend() 함수 사용\n",
    "# 단일 리스트로 나옴\n",
    "l1 = ['핫도그', '햄버거']\n",
    "l2 = ['샌드위치', '피자']\n",
    "l = l1\n",
    "l.extend(l2)\n",
    "print(l)"
   ]
  },
  {
   "cell_type": "code",
   "execution_count": 57,
   "metadata": {},
   "outputs": [
    {
     "name": "stdout",
     "output_type": "stream",
     "text": [
      "[['핫도그', '햄버거'], ['샌드위치', '피자']]\n"
     ]
    }
   ],
   "source": [
    "# append() 함수 사용\n",
    "# 초기화를 했어서 2차원이 됨\n",
    "l1 = ['핫도그', '햄버거']\n",
    "l2 = ['샌드위치', '피자']\n",
    "l = []\n",
    "l.append(l1)\n",
    "l.append(l2)\n",
    "print(l)"
   ]
  },
  {
   "cell_type": "code",
   "execution_count": 58,
   "metadata": {},
   "outputs": [
    {
     "name": "stdout",
     "output_type": "stream",
     "text": [
      "['핫도그', '햄버거', '샌드위치', '피자']\n"
     ]
    }
   ],
   "source": [
    "# 리스트 합치기: 반복문 활용\n",
    "l1 = ['핫도그', '햄버거']\n",
    "l2 = ['샌드위치', '피자']\n",
    "l = l1\n",
    "print(l)\n",
    "for x in l2:\n",
    "    l.append(x)\n",
    "print(l)"
   ]
  },
  {
   "cell_type": "code",
   "execution_count": 76,
   "metadata": {},
   "outputs": [
    {
     "name": "stdout",
     "output_type": "stream",
     "text": [
      "['busy', 'easy', 'symphony']\n"
     ]
    }
   ],
   "source": [
    "# 문제 : 리스트 l1, l2가 다음과 같을 때 'sy'가 들어있는 데이터 항목들만 뽑아서 \n",
    "# 리스트 l을 구성\n",
    "l1 = ['busy', 'bass', 'easy', 'as']\n",
    "l2 = ['buzzy', 'aws', 'symphony', 'fuzy']\n",
    "\n",
    "l = []\n",
    "for item in l1 + l2:\n",
    "    if 'sy' in item:\n",
    "        l.append(item)\n",
    "\n",
    "print(l)"
   ]
  },
  {
   "cell_type": "code",
   "execution_count": 103,
   "metadata": {},
   "outputs": [
    {
     "name": "stdout",
     "output_type": "stream",
     "text": [
      "[5, 4, 3, 2, 1]\n",
      "None\n"
     ]
    }
   ],
   "source": [
    "# 문제: 다음과 같은 리스트가 있을 때 데이터 항목의 순서를 거꾸로 만들어라\n",
    "l = [1, 2, 3, 4, 5]\n",
    "\n",
    "# for 문으로 해보기\n",
    "tmp = []\n",
    "for x in range(len(l)):\n",
    "    tmp.append(l[len(l)-x-1])\n",
    "print(tmp)\n",
    "\n",
    "# reverse() 함수 사용\n",
    "l = [1, 2, 3, 4, 5]\n",
    "l = l.reverse()   \n",
    "print(l)"
   ]
  },
  {
   "cell_type": "markdown",
   "metadata": {},
   "source": [
    "### 튜플"
   ]
  },
  {
   "cell_type": "code",
   "execution_count": null,
   "metadata": {},
   "outputs": [],
   "source": []
  }
 ],
 "metadata": {
  "kernelspec": {
   "display_name": "Python 3.9.13 64-bit",
   "language": "python",
   "name": "python3"
  },
  "language_info": {
   "codemirror_mode": {
    "name": "ipython",
    "version": 3
   },
   "file_extension": ".py",
   "mimetype": "text/x-python",
   "name": "python",
   "nbconvert_exporter": "python",
   "pygments_lexer": "ipython3",
   "version": "3.9.13"
  },
  "orig_nbformat": 4,
  "vscode": {
   "interpreter": {
    "hash": "aee8b7b246df8f9039afb4144a1f6fd8d2ca17a180786b69acc140d282b71a49"
   }
  }
 },
 "nbformat": 4,
 "nbformat_minor": 2
}
